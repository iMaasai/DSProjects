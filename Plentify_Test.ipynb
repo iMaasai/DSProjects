{
  "nbformat": 4,
  "nbformat_minor": 0,
  "metadata": {
    "colab": {
      "name": "Plentify_Test.ipynb",
      "provenance": [],
      "collapsed_sections": [],
      "machine_shape": "hm"
    },
    "kernelspec": {
      "name": "python3",
      "display_name": "Python 3"
    }
  },
  "cells": [
    {
      "cell_type": "code",
      "metadata": {
        "id": "MW07yWfqE8hE",
        "colab_type": "code",
        "outputId": "785c8449-fe9f-4c63-e2c1-00057d5888e1",
        "colab": {
          "base_uri": "https://localhost:8080/",
          "height": 252
        }
      },
      "source": [
        "#Training and applying models for the regression problems using catboost regressor\n",
        "pip install catboost"
      ],
      "execution_count": 178,
      "outputs": [
        {
          "output_type": "stream",
          "text": [
            "Requirement already satisfied: catboost in /usr/local/lib/python3.6/dist-packages (0.22)\n",
            "Requirement already satisfied: plotly in /usr/local/lib/python3.6/dist-packages (from catboost) (4.4.1)\n",
            "Requirement already satisfied: pandas>=0.24.0 in /usr/local/lib/python3.6/dist-packages (from catboost) (1.0.3)\n",
            "Requirement already satisfied: matplotlib in /usr/local/lib/python3.6/dist-packages (from catboost) (3.2.1)\n",
            "Requirement already satisfied: numpy>=1.16.0 in /usr/local/lib/python3.6/dist-packages (from catboost) (1.18.2)\n",
            "Requirement already satisfied: scipy in /usr/local/lib/python3.6/dist-packages (from catboost) (1.4.1)\n",
            "Requirement already satisfied: six in /usr/local/lib/python3.6/dist-packages (from catboost) (1.12.0)\n",
            "Requirement already satisfied: graphviz in /usr/local/lib/python3.6/dist-packages (from catboost) (0.10.1)\n",
            "Requirement already satisfied: retrying>=1.3.3 in /usr/local/lib/python3.6/dist-packages (from plotly->catboost) (1.3.3)\n",
            "Requirement already satisfied: pytz>=2017.2 in /usr/local/lib/python3.6/dist-packages (from pandas>=0.24.0->catboost) (2018.9)\n",
            "Requirement already satisfied: python-dateutil>=2.6.1 in /usr/local/lib/python3.6/dist-packages (from pandas>=0.24.0->catboost) (2.8.1)\n",
            "Requirement already satisfied: kiwisolver>=1.0.1 in /usr/local/lib/python3.6/dist-packages (from matplotlib->catboost) (1.2.0)\n",
            "Requirement already satisfied: cycler>=0.10 in /usr/local/lib/python3.6/dist-packages (from matplotlib->catboost) (0.10.0)\n",
            "Requirement already satisfied: pyparsing!=2.0.4,!=2.1.2,!=2.1.6,>=2.0.1 in /usr/local/lib/python3.6/dist-packages (from matplotlib->catboost) (2.4.6)\n"
          ],
          "name": "stdout"
        }
      ]
    },
    {
      "cell_type": "code",
      "metadata": {
        "id": "TYDbqzHX8Efa",
        "colab_type": "code",
        "colab": {}
      },
      "source": [
        "# Importing necessary libraries\n",
        "import pandas as pd\n",
        "import numpy as np\n",
        "import datetime as dt\n",
        "from catboost import CatBoostRegressor\n",
        "import matplotlib.pyplot as plt\n",
        "from sklearn.linear_model import RidgeCV\n",
        "from sklearn.ensemble import RandomForestRegressor\n",
        "from sklearn.metrics import mean_squared_error, r2_score\n",
        "import matplotlib.pyplot as plt\n",
        "import seaborn as sns\n",
        "from scipy.stats import zscore\n",
        "from sklearn.linear_model import LinearRegression\n",
        "from sklearn.linear_model import Ridge\n",
        "from sklearn.linear_model import Lasso\n",
        "from sklearn.linear_model import ElasticNet\n",
        "from sklearn.ensemble import BaggingRegressor\n",
        "from sklearn.ensemble import RandomForestRegressor\n",
        "from sklearn.ensemble import ExtraTreesRegressor\n",
        "from sklearn.tree import DecisionTreeRegressor\n",
        "from sklearn.neighbors import KNeighborsRegressor\n",
        "from sklearn.svm import SVR\n",
        "from sklearn.metrics import mean_absolute_error"
      ],
      "execution_count": 0,
      "outputs": []
    },
    {
      "cell_type": "code",
      "metadata": {
        "id": "_jpXWP9Q73_4",
        "colab_type": "code",
        "colab": {}
      },
      "source": [
        "#Loading the data\n",
        "meter_data = pd.read_excel('/content/Bulk Meter Data.xlsx')\n",
        "weather_data = pd.read_excel('/content/Cape Town Weather.xlsx')"
      ],
      "execution_count": 0,
      "outputs": []
    },
    {
      "cell_type": "code",
      "metadata": {
        "id": "dtiMWDgc83i7",
        "colab_type": "code",
        "outputId": "05ebba54-5f15-4b30-c5c3-75eedafae5bf",
        "colab": {
          "base_uri": "https://localhost:8080/",
          "height": 195
        }
      },
      "source": [
        "#Inspecting the data frame\n",
        "meter_data.tail()"
      ],
      "execution_count": 257,
      "outputs": [
        {
          "output_type": "execute_result",
          "data": {
            "text/html": [
              "<div>\n",
              "<style scoped>\n",
              "    .dataframe tbody tr th:only-of-type {\n",
              "        vertical-align: middle;\n",
              "    }\n",
              "\n",
              "    .dataframe tbody tr th {\n",
              "        vertical-align: top;\n",
              "    }\n",
              "\n",
              "    .dataframe thead th {\n",
              "        text-align: right;\n",
              "    }\n",
              "</style>\n",
              "<table border=\"1\" class=\"dataframe\">\n",
              "  <thead>\n",
              "    <tr style=\"text-align: right;\">\n",
              "      <th></th>\n",
              "      <th>DateTime</th>\n",
              "      <th>Power (kW)</th>\n",
              "    </tr>\n",
              "  </thead>\n",
              "  <tbody>\n",
              "    <tr>\n",
              "      <th>17467</th>\n",
              "      <td>2019-10-12 22:00:00</td>\n",
              "      <td>16.1245</td>\n",
              "    </tr>\n",
              "    <tr>\n",
              "      <th>17468</th>\n",
              "      <td>2019-10-12 22:30:00</td>\n",
              "      <td>18.1108</td>\n",
              "    </tr>\n",
              "    <tr>\n",
              "      <th>17469</th>\n",
              "      <td>2019-10-12 23:00:00</td>\n",
              "      <td>14.1421</td>\n",
              "    </tr>\n",
              "    <tr>\n",
              "      <th>17470</th>\n",
              "      <td>2019-10-12 23:30:00</td>\n",
              "      <td>6.3246</td>\n",
              "    </tr>\n",
              "    <tr>\n",
              "      <th>17471</th>\n",
              "      <td>2019-10-13 00:00:00</td>\n",
              "      <td>8.2462</td>\n",
              "    </tr>\n",
              "  </tbody>\n",
              "</table>\n",
              "</div>"
            ],
            "text/plain": [
              "                 DateTime  Power (kW)\n",
              "17467 2019-10-12 22:00:00     16.1245\n",
              "17468 2019-10-12 22:30:00     18.1108\n",
              "17469 2019-10-12 23:00:00     14.1421\n",
              "17470 2019-10-12 23:30:00      6.3246\n",
              "17471 2019-10-13 00:00:00      8.2462"
            ]
          },
          "metadata": {
            "tags": []
          },
          "execution_count": 257
        }
      ]
    },
    {
      "cell_type": "code",
      "metadata": {
        "id": "A2bEkpaA87j7",
        "colab_type": "code",
        "outputId": "356fb9aa-a502-499c-cdca-b21ae153559f",
        "colab": {
          "base_uri": "https://localhost:8080/",
          "height": 195
        }
      },
      "source": [
        "#Inspecting the data frame\n",
        "weather_data.tail()"
      ],
      "execution_count": 258,
      "outputs": [
        {
          "output_type": "execute_result",
          "data": {
            "text/html": [
              "<div>\n",
              "<style scoped>\n",
              "    .dataframe tbody tr th:only-of-type {\n",
              "        vertical-align: middle;\n",
              "    }\n",
              "\n",
              "    .dataframe tbody tr th {\n",
              "        vertical-align: top;\n",
              "    }\n",
              "\n",
              "    .dataframe thead th {\n",
              "        text-align: right;\n",
              "    }\n",
              "</style>\n",
              "<table border=\"1\" class=\"dataframe\">\n",
              "  <thead>\n",
              "    <tr style=\"text-align: right;\">\n",
              "      <th></th>\n",
              "      <th>Year</th>\n",
              "      <th>Month</th>\n",
              "      <th>Day</th>\n",
              "      <th>Hour</th>\n",
              "      <th>Minute</th>\n",
              "      <th>Temperature</th>\n",
              "      <th>Relative Humidity</th>\n",
              "      <th>Total Precipitation</th>\n",
              "      <th>Wind Speed</th>\n",
              "      <th>Wind Direction</th>\n",
              "    </tr>\n",
              "  </thead>\n",
              "  <tbody>\n",
              "    <tr>\n",
              "      <th>8755</th>\n",
              "      <td>2019</td>\n",
              "      <td>10</td>\n",
              "      <td>13</td>\n",
              "      <td>19</td>\n",
              "      <td>0</td>\n",
              "      <td>22.04</td>\n",
              "      <td>61</td>\n",
              "      <td>0.0</td>\n",
              "      <td>15.38</td>\n",
              "      <td>163.69</td>\n",
              "    </tr>\n",
              "    <tr>\n",
              "      <th>8756</th>\n",
              "      <td>2019</td>\n",
              "      <td>10</td>\n",
              "      <td>13</td>\n",
              "      <td>20</td>\n",
              "      <td>0</td>\n",
              "      <td>21.57</td>\n",
              "      <td>61</td>\n",
              "      <td>0.0</td>\n",
              "      <td>16.18</td>\n",
              "      <td>147.72</td>\n",
              "    </tr>\n",
              "    <tr>\n",
              "      <th>8757</th>\n",
              "      <td>2019</td>\n",
              "      <td>10</td>\n",
              "      <td>13</td>\n",
              "      <td>21</td>\n",
              "      <td>0</td>\n",
              "      <td>20.48</td>\n",
              "      <td>65</td>\n",
              "      <td>0.0</td>\n",
              "      <td>12.98</td>\n",
              "      <td>146.31</td>\n",
              "    </tr>\n",
              "    <tr>\n",
              "      <th>8758</th>\n",
              "      <td>2019</td>\n",
              "      <td>10</td>\n",
              "      <td>13</td>\n",
              "      <td>22</td>\n",
              "      <td>0</td>\n",
              "      <td>19.33</td>\n",
              "      <td>70</td>\n",
              "      <td>0.0</td>\n",
              "      <td>11.18</td>\n",
              "      <td>146.82</td>\n",
              "    </tr>\n",
              "    <tr>\n",
              "      <th>8759</th>\n",
              "      <td>2019</td>\n",
              "      <td>10</td>\n",
              "      <td>13</td>\n",
              "      <td>23</td>\n",
              "      <td>0</td>\n",
              "      <td>18.45</td>\n",
              "      <td>75</td>\n",
              "      <td>0.0</td>\n",
              "      <td>9.50</td>\n",
              "      <td>142.70</td>\n",
              "    </tr>\n",
              "  </tbody>\n",
              "</table>\n",
              "</div>"
            ],
            "text/plain": [
              "      Year  Month  Day  ...  Total Precipitation  Wind Speed  Wind Direction\n",
              "8755  2019     10   13  ...                  0.0       15.38          163.69\n",
              "8756  2019     10   13  ...                  0.0       16.18          147.72\n",
              "8757  2019     10   13  ...                  0.0       12.98          146.31\n",
              "8758  2019     10   13  ...                  0.0       11.18          146.82\n",
              "8759  2019     10   13  ...                  0.0        9.50          142.70\n",
              "\n",
              "[5 rows x 10 columns]"
            ]
          },
          "metadata": {
            "tags": []
          },
          "execution_count": 258
        }
      ]
    },
    {
      "cell_type": "code",
      "metadata": {
        "id": "TEv9S2uBAd6f",
        "colab_type": "code",
        "colab": {}
      },
      "source": [
        "#Insert Datetime column at beginning of DF\n",
        "weather_data.insert(0,'DateTime','')\n",
        "weather_data['DateTime'] = pd.to_datetime(weather_data[['Year','Month','Day','Hour','Minute']])"
      ],
      "execution_count": 0,
      "outputs": []
    },
    {
      "cell_type": "code",
      "metadata": {
        "id": "yCPiGLxdC1k9",
        "colab_type": "code",
        "colab": {}
      },
      "source": [
        "#Drop individual columns incorporated into the datetime column\n",
        "weather_data = weather_data.drop(columns=['Year', 'Month', 'Day', 'Hour', 'Minute'])"
      ],
      "execution_count": 0,
      "outputs": []
    },
    {
      "cell_type": "code",
      "metadata": {
        "id": "wC1rnibDPYtl",
        "colab_type": "code",
        "outputId": "9af8bfdf-808b-4f91-f825-bdcaa734929a",
        "colab": {
          "base_uri": "https://localhost:8080/",
          "height": 67
        }
      },
      "source": [
        "#Inspect data types\n",
        "meter_data.dtypes"
      ],
      "execution_count": 261,
      "outputs": [
        {
          "output_type": "execute_result",
          "data": {
            "text/plain": [
              "DateTime      datetime64[ns]\n",
              "Power (kW)           float64\n",
              "dtype: object"
            ]
          },
          "metadata": {
            "tags": []
          },
          "execution_count": 261
        }
      ]
    },
    {
      "cell_type": "code",
      "metadata": {
        "id": "umKhMiLTH855",
        "colab_type": "code",
        "outputId": "c23e462f-b940-4628-d64d-5ec6376773c6",
        "colab": {
          "base_uri": "https://localhost:8080/",
          "height": 134
        }
      },
      "source": [
        "#Inspect data types\n",
        "weather_data.dtypes"
      ],
      "execution_count": 262,
      "outputs": [
        {
          "output_type": "execute_result",
          "data": {
            "text/plain": [
              "DateTime               datetime64[ns]\n",
              "Temperature                   float64\n",
              "Relative Humidity               int64\n",
              "Total Precipitation           float64\n",
              "Wind Speed                    float64\n",
              "Wind Direction                float64\n",
              "dtype: object"
            ]
          },
          "metadata": {
            "tags": []
          },
          "execution_count": 262
        }
      ]
    },
    {
      "cell_type": "code",
      "metadata": {
        "id": "h00CmeqUPuQh",
        "colab_type": "code",
        "colab": {}
      },
      "source": [
        "#Convert to ensure all columns are datatype float\n",
        "weather_data['Relative Humidity']=weather_data['Relative Humidity'].astype(float)"
      ],
      "execution_count": 0,
      "outputs": []
    },
    {
      "cell_type": "code",
      "metadata": {
        "id": "1TASFj2BSdhj",
        "colab_type": "code",
        "outputId": "c75e2723-35b5-4ae7-ac8b-835348b62c23",
        "colab": {
          "base_uri": "https://localhost:8080/",
          "height": 195
        }
      },
      "source": [
        "#Combine the two dataframes, weather and meter data\n",
        "combined_df = pd.merge(meter_data, weather_data, how='left', left_on=[meter_data.DateTime.dt.date, meter_data.DateTime.dt.hour],\n",
        "         right_on=[weather_data.DateTime.dt.date, weather_data.DateTime.dt.hour])\n",
        "combined_df = combined_df.drop(columns=['key_0', 'key_1', 'DateTime_y'])\n",
        "combined_df.tail()"
      ],
      "execution_count": 264,
      "outputs": [
        {
          "output_type": "execute_result",
          "data": {
            "text/html": [
              "<div>\n",
              "<style scoped>\n",
              "    .dataframe tbody tr th:only-of-type {\n",
              "        vertical-align: middle;\n",
              "    }\n",
              "\n",
              "    .dataframe tbody tr th {\n",
              "        vertical-align: top;\n",
              "    }\n",
              "\n",
              "    .dataframe thead th {\n",
              "        text-align: right;\n",
              "    }\n",
              "</style>\n",
              "<table border=\"1\" class=\"dataframe\">\n",
              "  <thead>\n",
              "    <tr style=\"text-align: right;\">\n",
              "      <th></th>\n",
              "      <th>DateTime_x</th>\n",
              "      <th>Power (kW)</th>\n",
              "      <th>Temperature</th>\n",
              "      <th>Relative Humidity</th>\n",
              "      <th>Total Precipitation</th>\n",
              "      <th>Wind Speed</th>\n",
              "      <th>Wind Direction</th>\n",
              "    </tr>\n",
              "  </thead>\n",
              "  <tbody>\n",
              "    <tr>\n",
              "      <th>17467</th>\n",
              "      <td>2019-10-12 22:00:00</td>\n",
              "      <td>16.1245</td>\n",
              "      <td>15.96</td>\n",
              "      <td>85.0</td>\n",
              "      <td>0.0</td>\n",
              "      <td>29.78</td>\n",
              "      <td>153.43</td>\n",
              "    </tr>\n",
              "    <tr>\n",
              "      <th>17468</th>\n",
              "      <td>2019-10-12 22:30:00</td>\n",
              "      <td>18.1108</td>\n",
              "      <td>15.96</td>\n",
              "      <td>85.0</td>\n",
              "      <td>0.0</td>\n",
              "      <td>29.78</td>\n",
              "      <td>153.43</td>\n",
              "    </tr>\n",
              "    <tr>\n",
              "      <th>17469</th>\n",
              "      <td>2019-10-12 23:00:00</td>\n",
              "      <td>14.1421</td>\n",
              "      <td>15.57</td>\n",
              "      <td>86.0</td>\n",
              "      <td>0.0</td>\n",
              "      <td>29.95</td>\n",
              "      <td>152.82</td>\n",
              "    </tr>\n",
              "    <tr>\n",
              "      <th>17470</th>\n",
              "      <td>2019-10-12 23:30:00</td>\n",
              "      <td>6.3246</td>\n",
              "      <td>15.57</td>\n",
              "      <td>86.0</td>\n",
              "      <td>0.0</td>\n",
              "      <td>29.95</td>\n",
              "      <td>152.82</td>\n",
              "    </tr>\n",
              "    <tr>\n",
              "      <th>17471</th>\n",
              "      <td>2019-10-13 00:00:00</td>\n",
              "      <td>8.2462</td>\n",
              "      <td>15.31</td>\n",
              "      <td>87.0</td>\n",
              "      <td>0.0</td>\n",
              "      <td>30.11</td>\n",
              "      <td>153.74</td>\n",
              "    </tr>\n",
              "  </tbody>\n",
              "</table>\n",
              "</div>"
            ],
            "text/plain": [
              "               DateTime_x  Power (kW)  ...  Wind Speed  Wind Direction\n",
              "17467 2019-10-12 22:00:00     16.1245  ...       29.78          153.43\n",
              "17468 2019-10-12 22:30:00     18.1108  ...       29.78          153.43\n",
              "17469 2019-10-12 23:00:00     14.1421  ...       29.95          152.82\n",
              "17470 2019-10-12 23:30:00      6.3246  ...       29.95          152.82\n",
              "17471 2019-10-13 00:00:00      8.2462  ...       30.11          153.74\n",
              "\n",
              "[5 rows x 7 columns]"
            ]
          },
          "metadata": {
            "tags": []
          },
          "execution_count": 264
        }
      ]
    },
    {
      "cell_type": "code",
      "metadata": {
        "id": "FD13rsxxFhtf",
        "colab_type": "code",
        "outputId": "ef92f271-563b-4a43-bb1d-e931f91a9fa9",
        "colab": {
          "base_uri": "https://localhost:8080/",
          "height": 67
        }
      },
      "source": [
        "#Check how many null values we have in combined dataframe\n",
        "null_value_stats = combined_df.isnull().sum(axis=0)\n",
        "null_value_stats[null_value_stats != 0]"
      ],
      "execution_count": 265,
      "outputs": [
        {
          "output_type": "execute_result",
          "data": {
            "text/plain": [
              "Power (kW)             56\n",
              "Total Precipitation    44\n",
              "dtype: int64"
            ]
          },
          "metadata": {
            "tags": []
          },
          "execution_count": 265
        }
      ]
    },
    {
      "cell_type": "code",
      "metadata": {
        "id": "nE-SEMil9r7_",
        "colab_type": "code",
        "colab": {}
      },
      "source": [
        "#Fill Nan values using median\n",
        "meter_data.fillna(meter_data.median(), inplace=True)\n",
        "weather_data.fillna(weather_data.median(), inplace=True)\n",
        "#combined_df1 = combined_df.fillna(combined_df.median(),inplace = False)\n",
        "#combined_df.fillna(-999, inplace=True)\n",
        "combined_df.fillna(combined_df.median(),inplace = True)\n",
        "#combined_df.interpolate(inplace = True)"
      ],
      "execution_count": 0,
      "outputs": []
    },
    {
      "cell_type": "code",
      "metadata": {
        "id": "oghpEJTv-J8Y",
        "colab_type": "code",
        "colab": {}
      },
      "source": [
        "# Date variables\n",
        "combined_df['month'] = combined_df.DateTime_x.dt.month\n",
        "#meter_data['year'] = meter_data.DateTime.dt.year\n",
        "combined_df['dayofweek'] = combined_df.DateTime_x.dt.dayofweek\n",
        "combined_df['hour'] = combined_df.DateTime_x.dt.hour"
      ],
      "execution_count": 0,
      "outputs": []
    },
    {
      "cell_type": "code",
      "metadata": {
        "id": "zo6WMjWlMDmk",
        "colab_type": "code",
        "outputId": "5df1cbbc-7d94-45b1-dd72-557773e998b7",
        "colab": {
          "base_uri": "https://localhost:8080/",
          "height": 34
        }
      },
      "source": [
        "#Test df\n",
        "test_df = weather_data.loc[weather_data.DateTime >= '2019-10-13']\n",
        "test_df.head()\n",
        "test_df.shape"
      ],
      "execution_count": 268,
      "outputs": [
        {
          "output_type": "execute_result",
          "data": {
            "text/plain": [
              "(24, 6)"
            ]
          },
          "metadata": {
            "tags": []
          },
          "execution_count": 268
        }
      ]
    },
    {
      "cell_type": "code",
      "metadata": {
        "id": "BCYD2QSzKQqF",
        "colab_type": "code",
        "colab": {
          "base_uri": "https://localhost:8080/",
          "height": 34
        },
        "outputId": "2afe85a3-8a4e-4c96-adbe-765c6898eefb"
      },
      "source": [
        "#Check how many null values we have in test dataframe\n",
        "null_value_stats = test_df.isnull().sum(axis=0)\n",
        "null_value_stats[null_value_stats != 0]"
      ],
      "execution_count": 269,
      "outputs": [
        {
          "output_type": "execute_result",
          "data": {
            "text/plain": [
              "Series([], dtype: int64)"
            ]
          },
          "metadata": {
            "tags": []
          },
          "execution_count": 269
        }
      ]
    },
    {
      "cell_type": "code",
      "metadata": {
        "id": "Wxw12m2tPa-R",
        "colab_type": "code",
        "colab": {}
      },
      "source": [
        "#Make the Datetime column the index\n",
        "test_df = test_df.set_index('DateTime')"
      ],
      "execution_count": 0,
      "outputs": []
    },
    {
      "cell_type": "code",
      "metadata": {
        "id": "AdubejiUOeUU",
        "colab_type": "code",
        "outputId": "e75b1957-8289-4bd5-8e51-692765af00e6",
        "colab": {
          "base_uri": "https://localhost:8080/",
          "height": 225
        }
      },
      "source": [
        "#Resample the weather dataframe over 30 minutes, as expected in the meter readings\n",
        "test_df = test_df.resample('30min',closed='right').pad()\n",
        "test_df.head()\n",
        "#test_df.shape"
      ],
      "execution_count": 271,
      "outputs": [
        {
          "output_type": "execute_result",
          "data": {
            "text/html": [
              "<div>\n",
              "<style scoped>\n",
              "    .dataframe tbody tr th:only-of-type {\n",
              "        vertical-align: middle;\n",
              "    }\n",
              "\n",
              "    .dataframe tbody tr th {\n",
              "        vertical-align: top;\n",
              "    }\n",
              "\n",
              "    .dataframe thead th {\n",
              "        text-align: right;\n",
              "    }\n",
              "</style>\n",
              "<table border=\"1\" class=\"dataframe\">\n",
              "  <thead>\n",
              "    <tr style=\"text-align: right;\">\n",
              "      <th></th>\n",
              "      <th>Temperature</th>\n",
              "      <th>Relative Humidity</th>\n",
              "      <th>Total Precipitation</th>\n",
              "      <th>Wind Speed</th>\n",
              "      <th>Wind Direction</th>\n",
              "    </tr>\n",
              "    <tr>\n",
              "      <th>DateTime</th>\n",
              "      <th></th>\n",
              "      <th></th>\n",
              "      <th></th>\n",
              "      <th></th>\n",
              "      <th></th>\n",
              "    </tr>\n",
              "  </thead>\n",
              "  <tbody>\n",
              "    <tr>\n",
              "      <th>2019-10-13 00:00:00</th>\n",
              "      <td>15.31</td>\n",
              "      <td>87.0</td>\n",
              "      <td>0.0</td>\n",
              "      <td>30.11</td>\n",
              "      <td>153.74</td>\n",
              "    </tr>\n",
              "    <tr>\n",
              "      <th>2019-10-13 00:30:00</th>\n",
              "      <td>15.31</td>\n",
              "      <td>87.0</td>\n",
              "      <td>0.0</td>\n",
              "      <td>30.11</td>\n",
              "      <td>153.74</td>\n",
              "    </tr>\n",
              "    <tr>\n",
              "      <th>2019-10-13 01:00:00</th>\n",
              "      <td>15.08</td>\n",
              "      <td>88.0</td>\n",
              "      <td>0.0</td>\n",
              "      <td>30.59</td>\n",
              "      <td>153.43</td>\n",
              "    </tr>\n",
              "    <tr>\n",
              "      <th>2019-10-13 01:30:00</th>\n",
              "      <td>15.08</td>\n",
              "      <td>88.0</td>\n",
              "      <td>0.0</td>\n",
              "      <td>30.59</td>\n",
              "      <td>153.43</td>\n",
              "    </tr>\n",
              "    <tr>\n",
              "      <th>2019-10-13 02:00:00</th>\n",
              "      <td>14.95</td>\n",
              "      <td>88.0</td>\n",
              "      <td>0.0</td>\n",
              "      <td>31.09</td>\n",
              "      <td>151.65</td>\n",
              "    </tr>\n",
              "  </tbody>\n",
              "</table>\n",
              "</div>"
            ],
            "text/plain": [
              "                     Temperature  Relative Humidity  ...  Wind Speed  Wind Direction\n",
              "DateTime                                             ...                            \n",
              "2019-10-13 00:00:00        15.31               87.0  ...       30.11          153.74\n",
              "2019-10-13 00:30:00        15.31               87.0  ...       30.11          153.74\n",
              "2019-10-13 01:00:00        15.08               88.0  ...       30.59          153.43\n",
              "2019-10-13 01:30:00        15.08               88.0  ...       30.59          153.43\n",
              "2019-10-13 02:00:00        14.95               88.0  ...       31.09          151.65\n",
              "\n",
              "[5 rows x 5 columns]"
            ]
          },
          "metadata": {
            "tags": []
          },
          "execution_count": 271
        }
      ]
    },
    {
      "cell_type": "code",
      "metadata": {
        "id": "O-mCuufojgzL",
        "colab_type": "code",
        "colab": {}
      },
      "source": [
        "#Reset index of test dataframe\n",
        "test_df = test_df.reset_index()"
      ],
      "execution_count": 0,
      "outputs": []
    },
    {
      "cell_type": "code",
      "metadata": {
        "id": "DDNWKvsmjMXr",
        "colab_type": "code",
        "colab": {}
      },
      "source": [
        "# Date variables\n",
        "test_df['month'] = test_df.DateTime.dt.month\n",
        "#meter_data['year'] = meter_data.DateTime.dt.year\n",
        "test_df['dayofweek'] = test_df.DateTime.dt.dayofweek\n",
        "test_df['hour'] = test_df.DateTime.dt.hour"
      ],
      "execution_count": 0,
      "outputs": []
    },
    {
      "cell_type": "code",
      "metadata": {
        "id": "IeR3hY9ojzV0",
        "colab_type": "code",
        "outputId": "35dae5f6-a6d6-4d56-9a82-10a3639176bc",
        "colab": {
          "base_uri": "https://localhost:8080/",
          "height": 195
        }
      },
      "source": [
        "#Inspect test dataframe\n",
        "test_df.head()"
      ],
      "execution_count": 274,
      "outputs": [
        {
          "output_type": "execute_result",
          "data": {
            "text/html": [
              "<div>\n",
              "<style scoped>\n",
              "    .dataframe tbody tr th:only-of-type {\n",
              "        vertical-align: middle;\n",
              "    }\n",
              "\n",
              "    .dataframe tbody tr th {\n",
              "        vertical-align: top;\n",
              "    }\n",
              "\n",
              "    .dataframe thead th {\n",
              "        text-align: right;\n",
              "    }\n",
              "</style>\n",
              "<table border=\"1\" class=\"dataframe\">\n",
              "  <thead>\n",
              "    <tr style=\"text-align: right;\">\n",
              "      <th></th>\n",
              "      <th>DateTime</th>\n",
              "      <th>Temperature</th>\n",
              "      <th>Relative Humidity</th>\n",
              "      <th>Total Precipitation</th>\n",
              "      <th>Wind Speed</th>\n",
              "      <th>Wind Direction</th>\n",
              "      <th>month</th>\n",
              "      <th>dayofweek</th>\n",
              "      <th>hour</th>\n",
              "    </tr>\n",
              "  </thead>\n",
              "  <tbody>\n",
              "    <tr>\n",
              "      <th>0</th>\n",
              "      <td>2019-10-13 00:00:00</td>\n",
              "      <td>15.31</td>\n",
              "      <td>87.0</td>\n",
              "      <td>0.0</td>\n",
              "      <td>30.11</td>\n",
              "      <td>153.74</td>\n",
              "      <td>10</td>\n",
              "      <td>6</td>\n",
              "      <td>0</td>\n",
              "    </tr>\n",
              "    <tr>\n",
              "      <th>1</th>\n",
              "      <td>2019-10-13 00:30:00</td>\n",
              "      <td>15.31</td>\n",
              "      <td>87.0</td>\n",
              "      <td>0.0</td>\n",
              "      <td>30.11</td>\n",
              "      <td>153.74</td>\n",
              "      <td>10</td>\n",
              "      <td>6</td>\n",
              "      <td>0</td>\n",
              "    </tr>\n",
              "    <tr>\n",
              "      <th>2</th>\n",
              "      <td>2019-10-13 01:00:00</td>\n",
              "      <td>15.08</td>\n",
              "      <td>88.0</td>\n",
              "      <td>0.0</td>\n",
              "      <td>30.59</td>\n",
              "      <td>153.43</td>\n",
              "      <td>10</td>\n",
              "      <td>6</td>\n",
              "      <td>1</td>\n",
              "    </tr>\n",
              "    <tr>\n",
              "      <th>3</th>\n",
              "      <td>2019-10-13 01:30:00</td>\n",
              "      <td>15.08</td>\n",
              "      <td>88.0</td>\n",
              "      <td>0.0</td>\n",
              "      <td>30.59</td>\n",
              "      <td>153.43</td>\n",
              "      <td>10</td>\n",
              "      <td>6</td>\n",
              "      <td>1</td>\n",
              "    </tr>\n",
              "    <tr>\n",
              "      <th>4</th>\n",
              "      <td>2019-10-13 02:00:00</td>\n",
              "      <td>14.95</td>\n",
              "      <td>88.0</td>\n",
              "      <td>0.0</td>\n",
              "      <td>31.09</td>\n",
              "      <td>151.65</td>\n",
              "      <td>10</td>\n",
              "      <td>6</td>\n",
              "      <td>2</td>\n",
              "    </tr>\n",
              "  </tbody>\n",
              "</table>\n",
              "</div>"
            ],
            "text/plain": [
              "             DateTime  Temperature  Relative Humidity  ...  month  dayofweek  hour\n",
              "0 2019-10-13 00:00:00        15.31               87.0  ...     10          6     0\n",
              "1 2019-10-13 00:30:00        15.31               87.0  ...     10          6     0\n",
              "2 2019-10-13 01:00:00        15.08               88.0  ...     10          6     1\n",
              "3 2019-10-13 01:30:00        15.08               88.0  ...     10          6     1\n",
              "4 2019-10-13 02:00:00        14.95               88.0  ...     10          6     2\n",
              "\n",
              "[5 rows x 9 columns]"
            ]
          },
          "metadata": {
            "tags": []
          },
          "execution_count": 274
        }
      ]
    },
    {
      "cell_type": "code",
      "metadata": {
        "id": "x3Tf7gn-KGtE",
        "colab_type": "code",
        "colab": {}
      },
      "source": [
        "#Drop row for 13 October 2019 from training dataset\n",
        "combined_df.drop(17471,inplace=True)\n"
      ],
      "execution_count": 0,
      "outputs": []
    },
    {
      "cell_type": "code",
      "metadata": {
        "id": "oBSX0T9t3fkd",
        "colab_type": "code",
        "outputId": "314b844a-fcf1-4a73-a5e6-ca2aa8173a5b",
        "colab": {
          "base_uri": "https://localhost:8080/",
          "height": 195
        }
      },
      "source": [
        "#Inspect dataframe\n",
        "combined_df.head()"
      ],
      "execution_count": 276,
      "outputs": [
        {
          "output_type": "execute_result",
          "data": {
            "text/html": [
              "<div>\n",
              "<style scoped>\n",
              "    .dataframe tbody tr th:only-of-type {\n",
              "        vertical-align: middle;\n",
              "    }\n",
              "\n",
              "    .dataframe tbody tr th {\n",
              "        vertical-align: top;\n",
              "    }\n",
              "\n",
              "    .dataframe thead th {\n",
              "        text-align: right;\n",
              "    }\n",
              "</style>\n",
              "<table border=\"1\" class=\"dataframe\">\n",
              "  <thead>\n",
              "    <tr style=\"text-align: right;\">\n",
              "      <th></th>\n",
              "      <th>DateTime_x</th>\n",
              "      <th>Power (kW)</th>\n",
              "      <th>Temperature</th>\n",
              "      <th>Relative Humidity</th>\n",
              "      <th>Total Precipitation</th>\n",
              "      <th>Wind Speed</th>\n",
              "      <th>Wind Direction</th>\n",
              "      <th>month</th>\n",
              "      <th>dayofweek</th>\n",
              "      <th>hour</th>\n",
              "    </tr>\n",
              "  </thead>\n",
              "  <tbody>\n",
              "    <tr>\n",
              "      <th>0</th>\n",
              "      <td>2018-10-14 00:30:00</td>\n",
              "      <td>10.1980</td>\n",
              "      <td>17.82</td>\n",
              "      <td>65.0</td>\n",
              "      <td>0.0</td>\n",
              "      <td>8.89</td>\n",
              "      <td>148.24</td>\n",
              "      <td>10</td>\n",
              "      <td>6</td>\n",
              "      <td>0</td>\n",
              "    </tr>\n",
              "    <tr>\n",
              "      <th>1</th>\n",
              "      <td>2018-10-14 01:00:00</td>\n",
              "      <td>8.2462</td>\n",
              "      <td>17.86</td>\n",
              "      <td>66.0</td>\n",
              "      <td>0.0</td>\n",
              "      <td>6.61</td>\n",
              "      <td>150.64</td>\n",
              "      <td>10</td>\n",
              "      <td>6</td>\n",
              "      <td>1</td>\n",
              "    </tr>\n",
              "    <tr>\n",
              "      <th>2</th>\n",
              "      <td>2018-10-14 01:30:00</td>\n",
              "      <td>10.1980</td>\n",
              "      <td>17.86</td>\n",
              "      <td>66.0</td>\n",
              "      <td>0.0</td>\n",
              "      <td>6.61</td>\n",
              "      <td>150.64</td>\n",
              "      <td>10</td>\n",
              "      <td>6</td>\n",
              "      <td>1</td>\n",
              "    </tr>\n",
              "    <tr>\n",
              "      <th>3</th>\n",
              "      <td>2018-10-14 02:00:00</td>\n",
              "      <td>12.0000</td>\n",
              "      <td>17.96</td>\n",
              "      <td>66.0</td>\n",
              "      <td>0.0</td>\n",
              "      <td>3.67</td>\n",
              "      <td>168.69</td>\n",
              "      <td>10</td>\n",
              "      <td>6</td>\n",
              "      <td>2</td>\n",
              "    </tr>\n",
              "    <tr>\n",
              "      <th>4</th>\n",
              "      <td>2018-10-14 02:30:00</td>\n",
              "      <td>8.9443</td>\n",
              "      <td>17.96</td>\n",
              "      <td>66.0</td>\n",
              "      <td>0.0</td>\n",
              "      <td>3.67</td>\n",
              "      <td>168.69</td>\n",
              "      <td>10</td>\n",
              "      <td>6</td>\n",
              "      <td>2</td>\n",
              "    </tr>\n",
              "  </tbody>\n",
              "</table>\n",
              "</div>"
            ],
            "text/plain": [
              "           DateTime_x  Power (kW)  Temperature  ...  month  dayofweek  hour\n",
              "0 2018-10-14 00:30:00     10.1980        17.82  ...     10          6     0\n",
              "1 2018-10-14 01:00:00      8.2462        17.86  ...     10          6     1\n",
              "2 2018-10-14 01:30:00     10.1980        17.86  ...     10          6     1\n",
              "3 2018-10-14 02:00:00     12.0000        17.96  ...     10          6     2\n",
              "4 2018-10-14 02:30:00      8.9443        17.96  ...     10          6     2\n",
              "\n",
              "[5 rows x 10 columns]"
            ]
          },
          "metadata": {
            "tags": []
          },
          "execution_count": 276
        }
      ]
    },
    {
      "cell_type": "code",
      "metadata": {
        "id": "EKTwbenk-r21",
        "colab_type": "code",
        "outputId": "437ea970-b025-4c0c-8d1c-d6187cc67f6a",
        "colab": {
          "base_uri": "https://localhost:8080/",
          "height": 453
        }
      },
      "source": [
        "#View correlation between independent variables and dependent variable (Power)\n",
        "combined_df.corr()['Power (kW)'].sort_values().plot(kind='bar', figsize=(18, 6));"
      ],
      "execution_count": 277,
      "outputs": [
        {
          "output_type": "display_data",
          "data": {
            "image/png": "[encoded data removed]",
            "text/plain": [
              "<Figure size 1296x432 with 1 Axes>"
            ]
          },
          "metadata": {
            "tags": []
          }
        }
      ]
    },
    {
      "cell_type": "code",
      "metadata": {
        "id": "6AkvT6nGJQJQ",
        "colab_type": "code",
        "outputId": "860b37e1-bd25-4a12-d2f9-138f4d91f38f",
        "colab": {
          "base_uri": "https://localhost:8080/",
          "height": 457
        }
      },
      "source": [
        "#Correlation amongst features\n",
        "corr = combined_df.corr()\n",
        "\n",
        "#Show correlation Matrix as a heatmap\n",
        "plt.subplots(figsize=(10,6))\n",
        "sns.heatmap(corr, annot=True, center=0);"
      ],
      "execution_count": 278,
      "outputs": [
        {
          "output_type": "display_data",
          "data": {
            "image/png": "[encoded data removed]",
            "text/plain": [
              "<Figure size 720x432 with 2 Axes>"
            ]
          },
          "metadata": {
            "tags": []
          }
        }
      ]
    },
    {
      "cell_type": "code",
      "metadata": {
        "id": "W6NrLKCOHAHo",
        "colab_type": "code",
        "outputId": "e90ac3fa-0af8-48ef-f122-0cea8b7cca60",
        "colab": {
          "base_uri": "https://localhost:8080/",
          "height": 282
        }
      },
      "source": [
        "# Plotting mean Power demand for each month - Not much variation in the months\n",
        "combined_df.groupby('month').mean().reset_index().plot(y='Power (kW)', x='month', kind='bar');"
      ],
      "execution_count": 279,
      "outputs": [
        {
          "output_type": "display_data",
          "data": {
            "image/png": "[encoded data removed]",
            "text/plain": [
              "<Figure size 432x288 with 1 Axes>"
            ]
          },
          "metadata": {
            "tags": []
          }
        }
      ]
    },
    {
      "cell_type": "code",
      "metadata": {
        "id": "rFc0wlULmnCS",
        "colab_type": "code",
        "outputId": "d05c8d1d-f054-4dc6-8774-ac97ba116d33",
        "colab": {
          "base_uri": "https://localhost:8080/",
          "height": 282
        }
      },
      "source": [
        "# Plotting mean Power demand for each hour \n",
        "combined_df.groupby('hour').mean().reset_index().plot(y='Power (kW)', x='hour', kind='bar');"
      ],
      "execution_count": 280,
      "outputs": [
        {
          "output_type": "display_data",
          "data": {
            "image/png": "[encoded data removed]",
            "text/plain": [
              "<Figure size 432x288 with 1 Axes>"
            ]
          },
          "metadata": {
            "tags": []
          }
        }
      ]
    },
    {
      "cell_type": "code",
      "metadata": {
        "id": "uwIo9ehTIHZC",
        "colab_type": "code",
        "outputId": "92673f68-6f6e-46ac-b79c-a89480504aaf",
        "colab": {
          "base_uri": "https://localhost:8080/",
          "height": 276
        }
      },
      "source": [
        "# Plotting mean Power demand for each day of the week - Not much variation in the day of the week\n",
        "combined_df.groupby('dayofweek').mean().reset_index().plot(y='Power (kW)', x='dayofweek', kind='bar');"
      ],
      "execution_count": 281,
      "outputs": [
        {
          "output_type": "display_data",
          "data": {
            "image/png": "[encoded data removed]",
            "text/plain": [
              "<Figure size 432x288 with 1 Axes>"
            ]
          },
          "metadata": {
            "tags": []
          }
        }
      ]
    },
    {
      "cell_type": "code",
      "metadata": {
        "id": "DZxr5Flt2oip",
        "colab_type": "code",
        "outputId": "05122e1a-555a-4c4c-e1c0-65958f590884",
        "colab": {
          "base_uri": "https://localhost:8080/",
          "height": 34
        }
      },
      "source": [
        "#Data Split for Validation: Train - 75%, Test- 25%\n",
        "train_all = combined_df.copy().dropna()\n",
        "train = combined_df.loc[combined_df.DateTime_x < '2019-07-14']\n",
        "test = combined_df.loc[combined_df.DateTime_x >= '2019-07-14']\n",
        "print(train.shape, test.shape,combined_df.shape,train_all.shape)"
      ],
      "execution_count": 282,
      "outputs": [
        {
          "output_type": "stream",
          "text": [
            "(13103, 10) (4368, 10) (17471, 10) (17471, 10)\n"
          ],
          "name": "stdout"
        }
      ]
    },
    {
      "cell_type": "code",
      "metadata": {
        "id": "lHvmPwh86DEY",
        "colab_type": "code",
        "outputId": "c9a7aef8-c3c2-489b-da36-b777d4604bb9",
        "colab": {
          "base_uri": "https://localhost:8080/",
          "height": 67
        }
      },
      "source": [
        "# Define input and output columns\n",
        "in_cols = train.columns[2:]\n",
        "target_col = 'Power (kW)'\n",
        "in_cols"
      ],
      "execution_count": 283,
      "outputs": [
        {
          "output_type": "execute_result",
          "data": {
            "text/plain": [
              "Index(['Temperature', 'Relative Humidity', 'Total Precipitation', 'Wind Speed',\n",
              "       'Wind Direction', 'month', 'dayofweek', 'hour'],\n",
              "      dtype='object')"
            ]
          },
          "metadata": {
            "tags": []
          },
          "execution_count": 283
        }
      ]
    },
    {
      "cell_type": "code",
      "metadata": {
        "id": "SOJgV5HB5Zfh",
        "colab_type": "code",
        "colab": {}
      },
      "source": [
        "# Get our X and y training and test sets ready\n",
        "X_train, y_train = train[in_cols], train[target_col]\n",
        "X_test, y_test = test[in_cols], test[target_col]"
      ],
      "execution_count": 0,
      "outputs": []
    },
    {
      "cell_type": "code",
      "metadata": {
        "id": "tME_2NC16VRJ",
        "colab_type": "code",
        "outputId": "06b1ae60-32d2-48f0-c4f5-bfd4ffd8124c",
        "colab": {
          "base_uri": "https://localhost:8080/",
          "height": 235
        }
      },
      "source": [
        "#Train some potential models and evaluate them to choose the best performer based on RMSE and MAE\n",
        "models = []\n",
        "models.append(('LiR', LinearRegression()))\n",
        "models.append(('Ridge', Ridge()))\n",
        "models.append(('Lasso', Lasso()))\n",
        "models.append(('ElasticNet', ElasticNet()))\n",
        "models.append(('Bag_Re', BaggingRegressor()))\n",
        "models.append(('RandomForestRegressor', RandomForestRegressor()))\n",
        "models.append(('ExtraTreesRegressor', ExtraTreesRegressor()))\n",
        "models.append(('KNN', KNeighborsRegressor()))\n",
        "models.append(('CART', DecisionTreeRegressor()))\n",
        "models.append(('SVM', SVR()))\n",
        "models.append(('CatBoost', CatBoostRegressor(verbose = False)))\n",
        "\n",
        "# Evaluations\n",
        "results = []\n",
        "names = []\n",
        "scoring = []\n",
        "scores = 20\n",
        "MAEs = 20\n",
        "b_model =0\n",
        "\n",
        "for name, model in models:\n",
        "    # Fit the model\n",
        "    model.fit(X_train, y_train)\n",
        "    \n",
        "    predictions = model.predict(X_test)\n",
        "    \n",
        "    # Evaluate the model\n",
        "    #RMSE\n",
        "    score = mean_squared_error(y_test, predictions,squared=False)\n",
        "    #MAE\n",
        "    mae = mean_absolute_error(y_test, predictions)\n",
        "    results.append(mae)\n",
        "    names.append(name)\n",
        "    if mae < MAEs and score < scores:\n",
        "      scores = score\n",
        "      b_model = name\n",
        "\n",
        "    msg = \"%s: %f (%f)\" % (name, score, mae)\n",
        "    print(msg)\n",
        "print(\"\\nBest Model: \", b_model, scores)"
      ],
      "execution_count": 285,
      "outputs": [
        {
          "output_type": "stream",
          "text": [
            "LiR: 5.715821 (4.607585)\n",
            "Ridge: 5.715822 (4.607587)\n",
            "Lasso: 5.722190 (4.558626)\n",
            "ElasticNet: 5.720485 (4.583813)\n",
            "Bag_Re: 4.697932 (3.699092)\n",
            "RandomForestRegressor: 4.614278 (3.632869)\n",
            "ExtraTreesRegressor: 4.267269 (3.360164)\n",
            "KNN: 6.229056 (4.887947)\n",
            "CART: 5.492669 (4.292514)\n",
            "SVM: 5.862574 (4.526970)\n",
            "CatBoost: 4.498646 (3.560176)\n",
            "\n",
            "Best Model:  ExtraTreesRegressor 4.267268836282533\n"
          ],
          "name": "stdout"
        }
      ]
    },
    {
      "cell_type": "code",
      "metadata": {
        "id": "AODHUxeeCFJD",
        "colab_type": "code",
        "colab": {
          "base_uri": "https://localhost:8080/",
          "height": 134
        },
        "outputId": "ce101204-3a33-49af-d9f2-833a60beb123"
      },
      "source": [
        "#Use above identified best model to predict on the test dataframe\n",
        "#Select model\n",
        "model = ExtraTreesRegressor()\n",
        "#Fit the model\n",
        "model.fit(train_all[in_cols], train_all[target_col])\n"
      ],
      "execution_count": 286,
      "outputs": [
        {
          "output_type": "execute_result",
          "data": {
            "text/plain": [
              "ExtraTreesRegressor(bootstrap=False, ccp_alpha=0.0, criterion='mse',\n",
              "                    max_depth=None, max_features='auto', max_leaf_nodes=None,\n",
              "                    max_samples=None, min_impurity_decrease=0.0,\n",
              "                    min_impurity_split=None, min_samples_leaf=1,\n",
              "                    min_samples_split=2, min_weight_fraction_leaf=0.0,\n",
              "                    n_estimators=100, n_jobs=None, oob_score=False,\n",
              "                    random_state=None, verbose=0, warm_start=False)"
            ]
          },
          "metadata": {
            "tags": []
          },
          "execution_count": 286
        }
      ]
    },
    {
      "cell_type": "code",
      "metadata": {
        "id": "3BkUdm2CkRVx",
        "colab_type": "code",
        "colab": {}
      },
      "source": [
        "#test_df.head()"
      ],
      "execution_count": 0,
      "outputs": []
    },
    {
      "cell_type": "code",
      "metadata": {
        "id": "yGpH2Tq_f3yb",
        "colab_type": "code",
        "colab": {}
      },
      "source": [
        "#Make predictions from the model\n",
        "predictions = model.predict(test_df[in_cols])"
      ],
      "execution_count": 0,
      "outputs": []
    },
    {
      "cell_type": "code",
      "metadata": {
        "id": "0yIrDGNVkv8J",
        "colab_type": "code",
        "colab": {
          "base_uri": "https://localhost:8080/",
          "height": 185
        },
        "outputId": "57499a29-2a4a-4215-da32-b5432807bb0c"
      },
      "source": [
        "predictions"
      ],
      "execution_count": 289,
      "outputs": [
        {
          "output_type": "execute_result",
          "data": {
            "text/plain": [
              "array([ 8.3083115,  8.3083115,  8.627421 ,  8.627421 ,  8.349001 ,\n",
              "        8.349001 ,  8.1527075,  8.1527075,  8.043038 ,  8.043038 ,\n",
              "        9.8090485,  9.8090485, 12.807241 , 12.807241 , 17.488516 ,\n",
              "       17.488516 , 18.2176255, 18.2176255, 20.046654 , 20.046654 ,\n",
              "       16.435639 , 16.435639 , 15.386236 , 15.386236 , 16.6649235,\n",
              "       16.6649235, 18.633781 , 18.633781 , 18.252535 , 18.252535 ,\n",
              "       17.8347345, 17.8347345, 16.2548045, 16.2548045, 17.2130515,\n",
              "       17.2130515, 19.253881 , 19.253881 , 20.9457545, 20.9457545,\n",
              "       21.7488195, 21.7488195, 22.5062005, 22.5062005, 16.6202885,\n",
              "       16.6202885, 13.6803665])"
            ]
          },
          "metadata": {
            "tags": []
          },
          "execution_count": 289
        }
      ]
    },
    {
      "cell_type": "code",
      "metadata": {
        "id": "mQXh2fA2iogU",
        "colab_type": "code",
        "colab": {}
      },
      "source": [
        "#Create dataframe for predicted values\n",
        "predicted = pd. DataFrame (test_df.DateTime, columns = ['DateTime'])\n"
      ],
      "execution_count": 0,
      "outputs": []
    },
    {
      "cell_type": "code",
      "metadata": {
        "id": "pjL_xif1lU8B",
        "colab_type": "code",
        "colab": {
          "base_uri": "https://localhost:8080/",
          "height": 195
        },
        "outputId": "e056417a-6011-448f-ddc2-71684ba9bc29"
      },
      "source": [
        "# Add to prediction dataframe\n",
        "predicted['Power (kW)'] = predictions\n",
        "predicted.head()"
      ],
      "execution_count": 291,
      "outputs": [
        {
          "output_type": "execute_result",
          "data": {
            "text/html": [
              "<div>\n",
              "<style scoped>\n",
              "    .dataframe tbody tr th:only-of-type {\n",
              "        vertical-align: middle;\n",
              "    }\n",
              "\n",
              "    .dataframe tbody tr th {\n",
              "        vertical-align: top;\n",
              "    }\n",
              "\n",
              "    .dataframe thead th {\n",
              "        text-align: right;\n",
              "    }\n",
              "</style>\n",
              "<table border=\"1\" class=\"dataframe\">\n",
              "  <thead>\n",
              "    <tr style=\"text-align: right;\">\n",
              "      <th></th>\n",
              "      <th>DateTime</th>\n",
              "      <th>Power (kW)</th>\n",
              "    </tr>\n",
              "  </thead>\n",
              "  <tbody>\n",
              "    <tr>\n",
              "      <th>0</th>\n",
              "      <td>2019-10-13 00:00:00</td>\n",
              "      <td>8.308311</td>\n",
              "    </tr>\n",
              "    <tr>\n",
              "      <th>1</th>\n",
              "      <td>2019-10-13 00:30:00</td>\n",
              "      <td>8.308311</td>\n",
              "    </tr>\n",
              "    <tr>\n",
              "      <th>2</th>\n",
              "      <td>2019-10-13 01:00:00</td>\n",
              "      <td>8.627421</td>\n",
              "    </tr>\n",
              "    <tr>\n",
              "      <th>3</th>\n",
              "      <td>2019-10-13 01:30:00</td>\n",
              "      <td>8.627421</td>\n",
              "    </tr>\n",
              "    <tr>\n",
              "      <th>4</th>\n",
              "      <td>2019-10-13 02:00:00</td>\n",
              "      <td>8.349001</td>\n",
              "    </tr>\n",
              "  </tbody>\n",
              "</table>\n",
              "</div>"
            ],
            "text/plain": [
              "             DateTime  Power (kW)\n",
              "0 2019-10-13 00:00:00    8.308311\n",
              "1 2019-10-13 00:30:00    8.308311\n",
              "2 2019-10-13 01:00:00    8.627421\n",
              "3 2019-10-13 01:30:00    8.627421\n",
              "4 2019-10-13 02:00:00    8.349001"
            ]
          },
          "metadata": {
            "tags": []
          },
          "execution_count": 291
        }
      ]
    },
    {
      "cell_type": "code",
      "metadata": {
        "id": "Qe6ufimJlnEo",
        "colab_type": "code",
        "colab": {}
      },
      "source": [
        "# Save to csv file for submission:\n",
        "predicted.to_csv('meter_readings_13_10_2019.csv', index=False)"
      ],
      "execution_count": 0,
      "outputs": []
    },
    {
      "cell_type": "code",
      "metadata": {
        "id": "Ma2143gjsCyf",
        "colab_type": "code",
        "colab": {
          "base_uri": "https://localhost:8080/",
          "height": 54
        },
        "outputId": "ce58d467-c73d-40b4-8437-bb81ec782d70"
      },
      "source": [
        "'''\n",
        "predictions = []\n",
        "for i in range(10):\n",
        "  # Training the model with different seeds\n",
        "  cat = CatBoostRegressor(verbose = False, depth = 9, iterations = 1500, random_seed = i)\n",
        "  cat.fit(train_all[in_cols], train_all[target_col])\n",
        "\n",
        "  # Making predictions\n",
        "  prediction = cat.predict(test_df[in_cols])\n",
        "  predictions.append(prediction)\n",
        "\n",
        "# Averaging the predictions\n",
        "preds = np.mean(predictions, axis = 0)\n",
        "preds\n",
        "# Evaluate the model\n",
        "    #RMSE\n",
        "#score = mean_squared_error(y_test, predictions,squared=False)\n",
        "    #MAE\n",
        "##msg = \"%s: %f (%f)\" % (name, score, mae)\n",
        "#print(msg)\n",
        "'''"
      ],
      "execution_count": 293,
      "outputs": [
        {
          "output_type": "execute_result",
          "data": {
            "text/plain": [
              "'\\npredictions = []\\nfor i in range(10):\\n  # Training the model with different seeds\\n  cat = CatBoostRegressor(verbose = False, depth = 9, iterations = 1500, random_seed = i)\\n  cat.fit(train_all[in_cols], train_all[target_col])\\n\\n  # Making predictions\\n  prediction = cat.predict(test_df[in_cols])\\n  predictions.append(prediction)\\n\\n# Averaging the predictions\\npreds = np.mean(predictions, axis = 0)\\npreds\\n# Evaluate the model\\n    #RMSE\\n#score = mean_squared_error(y_test, predictions,squared=False)\\n    #MAE\\n##msg = \"%s: %f (%f)\" % (name, score, mae)\\n#print(msg)\\n'"
            ]
          },
          "metadata": {
            "tags": []
          },
          "execution_count": 293
        }
      ]
    }
  ]
}