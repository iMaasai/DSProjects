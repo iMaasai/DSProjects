{
  "nbformat": 4,
  "nbformat_minor": 0,
  "metadata": {
    "colab": {
      "name": "Hotspots_DSClub.ipynb",
      "provenance": [],
      "collapsed_sections": [],
      "toc_visible": true
    },
    "kernelspec": {
      "name": "python3",
      "display_name": "Python 3"
    }
  },
  "cells": [
    {
      "cell_type": "markdown",
      "metadata": {
        "id": "9owHpJecwq7g"
      },
      "source": [
        "# HotSpots Starter Notebook\n",
        "\n",
        "This notebook should help you get started with the Hotspots competition on Zindi. In it we cover:\n",
        "- Loading the data\n",
        "- Simple EDA and an example of feature enginnering\n",
        "- Suggestions for validation split\n",
        "- Creating a simple model\n",
        "- Making a submission\n",
        "- Some tips for improving your score\n"
      ]
    },
    {
      "cell_type": "markdown",
      "metadata": {
        "id": "xKcJuq7bxof_"
      },
      "source": [
        "# Setup\n",
        "\n",
        "Load the data for the competition."
      ]
    },
    {
      "cell_type": "code",
      "metadata": {
        "id": "2lLzfdilxfsY",
        "outputId": "f9ed789c-6c90-4407-f24e-2f8331741253",
        "colab": {
          "base_uri": "https://localhost:8080/",
          "height": 52
        }
      },
      "source": [
        "'''\n",
        "import pandas as pd\n",
        "from sklearn.linear_model import RidgeCV\n",
        "from sklearn.ensemble import RandomForestRegressor\n",
        "from sklearn.metrics import mean_squared_error, r2_score\n",
        "from matplotlib import pyplot as plt\n",
        "'''"
      ],
      "execution_count": null,
      "outputs": [
        {
          "output_type": "execute_result",
          "data": {
            "application/vnd.google.colaboratory.intrinsic+json": {
              "type": "string"
            },
            "text/plain": [
              "'\\nimport pandas as pd\\nfrom sklearn.linear_model import RidgeCV\\nfrom sklearn.ensemble import RandomForestRegressor\\nfrom sklearn.metrics import mean_squared_error, r2_score\\nfrom matplotlib import pyplot as plt\\n'"
            ]
          },
          "metadata": {
            "tags": []
          },
          "execution_count": 1
        }
      ]
    },
    {
      "cell_type": "code",
      "metadata": {
        "id": "D-qLKK63XIJ1"
      },
      "source": [
        "import pandas as pd\n",
        "import numpy as np\n",
        "from sklearn.linear_model import RidgeCV\n",
        "from sklearn.ensemble import RandomForestRegressor\n",
        "from sklearn.metrics import mean_squared_error, r2_score\n",
        "#from matplotlib import pyplot as plt\n",
        "import matplotlib.pyplot as plt\n",
        "import seaborn as sns\n",
        "from scipy.stats import zscore\n",
        "from sklearn.linear_model import LinearRegression\n",
        "from sklearn.linear_model import Ridge\n",
        "from sklearn.linear_model import Lasso\n",
        "from sklearn.linear_model import ElasticNet\n",
        "from sklearn.ensemble import BaggingRegressor\n",
        "from sklearn.ensemble import RandomForestRegressor\n",
        "from sklearn.ensemble import ExtraTreesRegressor\n",
        "from sklearn.tree import DecisionTreeRegressor\n",
        "from sklearn.neighbors import KNeighborsRegressor\n",
        "from sklearn.svm import SVR\n",
        "from sklearn.metrics import explained_variance_score\n",
        "from sklearn.metrics import mean_absolute_error"
      ],
      "execution_count": null,
      "outputs": []
    },
    {
      "cell_type": "code",
      "metadata": {
        "id": "-fKHNs8jTscg",
        "outputId": "2c667aa0-af76-4a85-f09a-888d19e28335",
        "colab": {
          "base_uri": "https://localhost:8080/",
          "height": 34
        }
      },
      "source": [
        "from google.colab import drive\n",
        "drive.mount('/content/drive')"
      ],
      "execution_count": null,
      "outputs": [
        {
          "output_type": "stream",
          "text": [
            "Drive already mounted at /content/drive; to attempt to forcibly remount, call drive.mount(\"/content/drive\", force_remount=True).\n"
          ],
          "name": "stdout"
        }
      ]
    },
    {
      "cell_type": "code",
      "metadata": {
        "id": "tj530pkwT4tk",
        "outputId": "9235c5d0-8e51-443f-8607-da365ca4e007",
        "colab": {
          "base_uri": "https://localhost:8080/",
          "height": 34
        }
      },
      "source": [
        "!ls \"/content/drive/My Drive/hotspot_data\""
      ],
      "execution_count": null,
      "outputs": [
        {
          "output_type": "stream",
          "text": [
            "SampleSubmission.csv  test.csv\ttrain.csv  VariableDefinitionsHotspot.csv\n"
          ],
          "name": "stdout"
        }
      ]
    },
    {
      "cell_type": "code",
      "metadata": {
        "id": "OjrWXlEHVvpF"
      },
      "source": [
        "!cp 'drive/My Drive/hotspot_data/train.csv' train.csv\n",
        "!cp 'drive/My Drive/hotspot_data/test.csv' test.csv\n",
        "!cp 'drive/My Drive/hotspot_data/SampleSubmission.csv' ss.csv"
      ],
      "execution_count": null,
      "outputs": []
    },
    {
      "cell_type": "code",
      "metadata": {
        "id": "uaQM7lJHxRoe",
        "outputId": "8d184521-b096-4598-ec7a-d4a224f55811",
        "colab": {
          "base_uri": "https://localhost:8080/",
          "height": 299
        }
      },
      "source": [
        "train = pd.read_csv('train.csv', parse_dates=['date'])\n",
        "train.head()"
      ],
      "execution_count": null,
      "outputs": [
        {
          "output_type": "execute_result",
          "data": {
            "text/html": [
              "<div>\n",
              "<style scoped>\n",
              "    .dataframe tbody tr th:only-of-type {\n",
              "        vertical-align: middle;\n",
              "    }\n",
              "\n",
              "    .dataframe tbody tr th {\n",
              "        vertical-align: top;\n",
              "    }\n",
              "\n",
              "    .dataframe thead th {\n",
              "        text-align: right;\n",
              "    }\n",
              "</style>\n",
              "<table border=\"1\" class=\"dataframe\">\n",
              "  <thead>\n",
              "    <tr style=\"text-align: right;\">\n",
              "      <th></th>\n",
              "      <th>ID</th>\n",
              "      <th>area</th>\n",
              "      <th>date</th>\n",
              "      <th>lat</th>\n",
              "      <th>lon</th>\n",
              "      <th>burn_area</th>\n",
              "      <th>climate_aet</th>\n",
              "      <th>climate_def</th>\n",
              "      <th>climate_pdsi</th>\n",
              "      <th>climate_pet</th>\n",
              "      <th>climate_pr</th>\n",
              "      <th>climate_ro</th>\n",
              "      <th>climate_soil</th>\n",
              "      <th>climate_srad</th>\n",
              "      <th>climate_swe</th>\n",
              "      <th>climate_tmmn</th>\n",
              "      <th>climate_tmmx</th>\n",
              "      <th>climate_vap</th>\n",
              "      <th>climate_vpd</th>\n",
              "      <th>climate_vs</th>\n",
              "      <th>elevation</th>\n",
              "      <th>landcover_0</th>\n",
              "      <th>landcover_1</th>\n",
              "      <th>landcover_2</th>\n",
              "      <th>landcover_3</th>\n",
              "      <th>landcover_4</th>\n",
              "      <th>landcover_5</th>\n",
              "      <th>landcover_6</th>\n",
              "      <th>landcover_7</th>\n",
              "      <th>landcover_8</th>\n",
              "      <th>population_density</th>\n",
              "      <th>precipitation</th>\n",
              "    </tr>\n",
              "  </thead>\n",
              "  <tbody>\n",
              "    <tr>\n",
              "      <th>0</th>\n",
              "      <td>0_2000-04-01</td>\n",
              "      <td>0</td>\n",
              "      <td>2000-04-01</td>\n",
              "      <td>25.447</td>\n",
              "      <td>5.296</td>\n",
              "      <td>0.003688</td>\n",
              "      <td>1250.622712</td>\n",
              "      <td>0.0</td>\n",
              "      <td>-178.916305</td>\n",
              "      <td>1250.622712</td>\n",
              "      <td>158.387765</td>\n",
              "      <td>8.000000</td>\n",
              "      <td>498.913776</td>\n",
              "      <td>2143.430034</td>\n",
              "      <td>0.0</td>\n",
              "      <td>206.935453</td>\n",
              "      <td>323.873675</td>\n",
              "      <td>2508.795159</td>\n",
              "      <td>115.989282</td>\n",
              "      <td>129.825024</td>\n",
              "      <td>590.564102</td>\n",
              "      <td>0.0</td>\n",
              "      <td>0.0</td>\n",
              "      <td>0.350169</td>\n",
              "      <td>0.0</td>\n",
              "      <td>0.649524</td>\n",
              "      <td>0.0</td>\n",
              "      <td>0.000307</td>\n",
              "      <td>0.0</td>\n",
              "      <td>0.0</td>\n",
              "      <td>2.214262</td>\n",
              "      <td>0.198996</td>\n",
              "    </tr>\n",
              "    <tr>\n",
              "      <th>1</th>\n",
              "      <td>1_2000-04-01</td>\n",
              "      <td>1</td>\n",
              "      <td>2000-04-01</td>\n",
              "      <td>25.669</td>\n",
              "      <td>5.293</td>\n",
              "      <td>0.000000</td>\n",
              "      <td>1238.019166</td>\n",
              "      <td>0.0</td>\n",
              "      <td>-150.779947</td>\n",
              "      <td>1238.019166</td>\n",
              "      <td>164.645065</td>\n",
              "      <td>8.104576</td>\n",
              "      <td>590.346191</td>\n",
              "      <td>2132.253953</td>\n",
              "      <td>0.0</td>\n",
              "      <td>204.835170</td>\n",
              "      <td>321.838884</td>\n",
              "      <td>2500.432319</td>\n",
              "      <td>112.619789</td>\n",
              "      <td>129.471370</td>\n",
              "      <td>611.544277</td>\n",
              "      <td>0.0</td>\n",
              "      <td>0.0</td>\n",
              "      <td>0.429049</td>\n",
              "      <td>0.0</td>\n",
              "      <td>0.570644</td>\n",
              "      <td>0.0</td>\n",
              "      <td>0.000307</td>\n",
              "      <td>0.0</td>\n",
              "      <td>0.0</td>\n",
              "      <td>3.833042</td>\n",
              "      <td>0.188071</td>\n",
              "    </tr>\n",
              "    <tr>\n",
              "      <th>2</th>\n",
              "      <td>2_2000-04-01</td>\n",
              "      <td>2</td>\n",
              "      <td>2000-04-01</td>\n",
              "      <td>25.443</td>\n",
              "      <td>5.074</td>\n",
              "      <td>0.000000</td>\n",
              "      <td>1240.449964</td>\n",
              "      <td>0.0</td>\n",
              "      <td>-200.503858</td>\n",
              "      <td>1240.449964</td>\n",
              "      <td>163.699542</td>\n",
              "      <td>8.027851</td>\n",
              "      <td>536.613938</td>\n",
              "      <td>2139.632626</td>\n",
              "      <td>0.0</td>\n",
              "      <td>207.001206</td>\n",
              "      <td>321.846757</td>\n",
              "      <td>2519.259344</td>\n",
              "      <td>112.378707</td>\n",
              "      <td>127.550639</td>\n",
              "      <td>594.188987</td>\n",
              "      <td>0.0</td>\n",
              "      <td>0.0</td>\n",
              "      <td>0.238300</td>\n",
              "      <td>0.0</td>\n",
              "      <td>0.761700</td>\n",
              "      <td>0.0</td>\n",
              "      <td>0.000000</td>\n",
              "      <td>0.0</td>\n",
              "      <td>0.0</td>\n",
              "      <td>1.927303</td>\n",
              "      <td>0.211730</td>\n",
              "    </tr>\n",
              "    <tr>\n",
              "      <th>3</th>\n",
              "      <td>3_2000-04-01</td>\n",
              "      <td>3</td>\n",
              "      <td>2000-04-01</td>\n",
              "      <td>25.665</td>\n",
              "      <td>5.070</td>\n",
              "      <td>0.000000</td>\n",
              "      <td>1229.240077</td>\n",
              "      <td>0.0</td>\n",
              "      <td>-177.011032</td>\n",
              "      <td>1229.240077</td>\n",
              "      <td>172.996043</td>\n",
              "      <td>8.820002</td>\n",
              "      <td>648.271615</td>\n",
              "      <td>2125.206979</td>\n",
              "      <td>0.0</td>\n",
              "      <td>204.127473</td>\n",
              "      <td>319.348123</td>\n",
              "      <td>2493.392613</td>\n",
              "      <td>109.132390</td>\n",
              "      <td>131.703082</td>\n",
              "      <td>645.362481</td>\n",
              "      <td>0.0</td>\n",
              "      <td>0.0</td>\n",
              "      <td>0.488146</td>\n",
              "      <td>0.0</td>\n",
              "      <td>0.511854</td>\n",
              "      <td>0.0</td>\n",
              "      <td>0.000000</td>\n",
              "      <td>0.0</td>\n",
              "      <td>0.0</td>\n",
              "      <td>1.878281</td>\n",
              "      <td>0.215403</td>\n",
              "    </tr>\n",
              "    <tr>\n",
              "      <th>4</th>\n",
              "      <td>4_2000-04-01</td>\n",
              "      <td>4</td>\n",
              "      <td>2000-04-01</td>\n",
              "      <td>25.886</td>\n",
              "      <td>5.067</td>\n",
              "      <td>0.000307</td>\n",
              "      <td>1224.093679</td>\n",
              "      <td>0.0</td>\n",
              "      <td>-153.256111</td>\n",
              "      <td>1224.093679</td>\n",
              "      <td>178.396749</td>\n",
              "      <td>9.000000</td>\n",
              "      <td>719.423119</td>\n",
              "      <td>2114.709813</td>\n",
              "      <td>0.0</td>\n",
              "      <td>203.295123</td>\n",
              "      <td>318.639735</td>\n",
              "      <td>2487.984467</td>\n",
              "      <td>108.161469</td>\n",
              "      <td>133.354846</td>\n",
              "      <td>660.372381</td>\n",
              "      <td>0.0</td>\n",
              "      <td>0.0</td>\n",
              "      <td>0.322243</td>\n",
              "      <td>0.0</td>\n",
              "      <td>0.677757</td>\n",
              "      <td>0.0</td>\n",
              "      <td>0.000000</td>\n",
              "      <td>0.0</td>\n",
              "      <td>0.0</td>\n",
              "      <td>1.968818</td>\n",
              "      <td>0.199975</td>\n",
              "    </tr>\n",
              "  </tbody>\n",
              "</table>\n",
              "</div>"
            ],
            "text/plain": [
              "             ID  area  ... population_density  precipitation\n",
              "0  0_2000-04-01     0  ...           2.214262       0.198996\n",
              "1  1_2000-04-01     1  ...           3.833042       0.188071\n",
              "2  2_2000-04-01     2  ...           1.927303       0.211730\n",
              "3  3_2000-04-01     3  ...           1.878281       0.215403\n",
              "4  4_2000-04-01     4  ...           1.968818       0.199975\n",
              "\n",
              "[5 rows x 32 columns]"
            ]
          },
          "metadata": {
            "tags": []
          },
          "execution_count": 36
        }
      ]
    },
    {
      "cell_type": "code",
      "metadata": {
        "id": "1R6vrj2ww-wW",
        "outputId": "e4409f70-f030-4ec8-8a1f-9d8993a10b57",
        "colab": {
          "base_uri": "https://localhost:8080/",
          "height": 34
        }
      },
      "source": [
        "train.shape"
      ],
      "execution_count": null,
      "outputs": [
        {
          "output_type": "execute_result",
          "data": {
            "text/plain": [
              "(626644, 32)"
            ]
          },
          "metadata": {
            "tags": []
          },
          "execution_count": 37
        }
      ]
    },
    {
      "cell_type": "code",
      "metadata": {
        "id": "RHksNuWBxeDn",
        "outputId": "55af1ef2-0db3-4ecd-e969-9612d64924fd",
        "colab": {
          "base_uri": "https://localhost:8080/",
          "height": 114
        }
      },
      "source": [
        "test = pd.read_csv('test.csv', parse_dates=['date'])\n",
        "test.head(1)"
      ],
      "execution_count": null,
      "outputs": [
        {
          "output_type": "execute_result",
          "data": {
            "text/html": [
              "<div>\n",
              "<style scoped>\n",
              "    .dataframe tbody tr th:only-of-type {\n",
              "        vertical-align: middle;\n",
              "    }\n",
              "\n",
              "    .dataframe tbody tr th {\n",
              "        vertical-align: top;\n",
              "    }\n",
              "\n",
              "    .dataframe thead th {\n",
              "        text-align: right;\n",
              "    }\n",
              "</style>\n",
              "<table border=\"1\" class=\"dataframe\">\n",
              "  <thead>\n",
              "    <tr style=\"text-align: right;\">\n",
              "      <th></th>\n",
              "      <th>ID</th>\n",
              "      <th>area</th>\n",
              "      <th>date</th>\n",
              "      <th>lat</th>\n",
              "      <th>lon</th>\n",
              "      <th>burn_area</th>\n",
              "      <th>climate_aet</th>\n",
              "      <th>climate_def</th>\n",
              "      <th>climate_pdsi</th>\n",
              "      <th>climate_pet</th>\n",
              "      <th>climate_pr</th>\n",
              "      <th>climate_ro</th>\n",
              "      <th>climate_soil</th>\n",
              "      <th>climate_srad</th>\n",
              "      <th>climate_swe</th>\n",
              "      <th>climate_tmmn</th>\n",
              "      <th>climate_tmmx</th>\n",
              "      <th>climate_vap</th>\n",
              "      <th>climate_vpd</th>\n",
              "      <th>climate_vs</th>\n",
              "      <th>elevation</th>\n",
              "      <th>landcover_0</th>\n",
              "      <th>landcover_1</th>\n",
              "      <th>landcover_2</th>\n",
              "      <th>landcover_3</th>\n",
              "      <th>landcover_4</th>\n",
              "      <th>landcover_5</th>\n",
              "      <th>landcover_6</th>\n",
              "      <th>landcover_7</th>\n",
              "      <th>landcover_8</th>\n",
              "      <th>population_density</th>\n",
              "      <th>precipitation</th>\n",
              "    </tr>\n",
              "  </thead>\n",
              "  <tbody>\n",
              "    <tr>\n",
              "      <th>0</th>\n",
              "      <td>0_2014-01-01</td>\n",
              "      <td>0</td>\n",
              "      <td>2014-01-01</td>\n",
              "      <td>25.447</td>\n",
              "      <td>5.296</td>\n",
              "      <td>0</td>\n",
              "      <td>142.756021</td>\n",
              "      <td>1217.92618</td>\n",
              "      <td>-953.401012</td>\n",
              "      <td>1360.571291</td>\n",
              "      <td>1.0</td>\n",
              "      <td>0.0</td>\n",
              "      <td>355.59369</td>\n",
              "      <td>2349.499157</td>\n",
              "      <td>0.0</td>\n",
              "      <td>187.541787</td>\n",
              "      <td>332.578998</td>\n",
              "      <td>2542.124518</td>\n",
              "      <td>111.013969</td>\n",
              "      <td>156.563945</td>\n",
              "      <td>590.564102</td>\n",
              "      <td>0.0</td>\n",
              "      <td>0.0</td>\n",
              "      <td>0.430648</td>\n",
              "      <td>0.0</td>\n",
              "      <td>0.569045</td>\n",
              "      <td>0.0</td>\n",
              "      <td>0.000307</td>\n",
              "      <td>0.0</td>\n",
              "      <td>0.0</td>\n",
              "      <td>2.773423</td>\n",
              "      <td>0.000457</td>\n",
              "    </tr>\n",
              "  </tbody>\n",
              "</table>\n",
              "</div>"
            ],
            "text/plain": [
              "             ID  area  ... population_density  precipitation\n",
              "0  0_2014-01-01     0  ...           2.773423       0.000457\n",
              "\n",
              "[1 rows x 32 columns]"
            ]
          },
          "metadata": {
            "tags": []
          },
          "execution_count": 38
        }
      ]
    },
    {
      "cell_type": "code",
      "metadata": {
        "id": "xPZASj7BWk9J",
        "outputId": "44b6a7cb-c33e-410d-bd42-7f008b2ae87f",
        "colab": {
          "base_uri": "https://localhost:8080/",
          "height": 571
        }
      },
      "source": [
        "#Check for existing null values\n",
        "train.isnull().sum() "
      ],
      "execution_count": null,
      "outputs": [
        {
          "output_type": "execute_result",
          "data": {
            "text/plain": [
              "ID                        0\n",
              "area                      0\n",
              "date                      0\n",
              "lat                       0\n",
              "lon                       0\n",
              "burn_area                 0\n",
              "climate_aet               0\n",
              "climate_def               0\n",
              "climate_pdsi              0\n",
              "climate_pet               0\n",
              "climate_pr                0\n",
              "climate_ro                0\n",
              "climate_soil              0\n",
              "climate_srad              0\n",
              "climate_swe               0\n",
              "climate_tmmn              0\n",
              "climate_tmmx              0\n",
              "climate_vap               0\n",
              "climate_vpd               0\n",
              "climate_vs                0\n",
              "elevation                 0\n",
              "landcover_0               0\n",
              "landcover_1               0\n",
              "landcover_2               0\n",
              "landcover_3               0\n",
              "landcover_4               0\n",
              "landcover_5               0\n",
              "landcover_6               0\n",
              "landcover_7               0\n",
              "landcover_8               0\n",
              "population_density    19516\n",
              "precipitation             0\n",
              "dtype: int64"
            ]
          },
          "metadata": {
            "tags": []
          },
          "execution_count": 39
        }
      ]
    },
    {
      "cell_type": "code",
      "metadata": {
        "id": "O4PddRSBWnSN"
      },
      "source": [
        "#Fill Nan values using median\n",
        "train.fillna(train.median(), inplace=True)"
      ],
      "execution_count": null,
      "outputs": []
    },
    {
      "cell_type": "markdown",
      "metadata": {
        "id": "Tnl3iVg5xqfA"
      },
      "source": [
        "# EDA + Feature Engineering"
      ]
    },
    {
      "cell_type": "code",
      "metadata": {
        "id": "DG4siNyqxrsi",
        "outputId": "2664d11a-589d-4aa4-d0af-76854a3e14f4",
        "colab": {
          "base_uri": "https://localhost:8080/",
          "height": 476
        }
      },
      "source": [
        "# Look at correlation with target\n",
        "train.corr()['burn_area'].sort_values().plot(kind='bar', figsize=(18, 6))"
      ],
      "execution_count": null,
      "outputs": [
        {
          "output_type": "execute_result",
          "data": {
            "text/plain": [
              "<matplotlib.axes._subplots.AxesSubplot at 0x7f9848b67cf8>"
            ]
          },
          "metadata": {
            "tags": []
          },
          "execution_count": 41
        },
        {
          "output_type": "display_data",
          "data": {
            "image/png": "[encoded data removed]",
            "text/plain": [
              "<Figure size 1296x432 with 1 Axes>"
            ]
          },
          "metadata": {
            "tags": [],
            "needs_background": "light"
          }
        }
      ]
    },
    {
      "cell_type": "code",
      "metadata": {
        "id": "DLVC6pU91PPE",
        "outputId": "fdbef13e-6f97-4fff-fdcd-5a6b79e0e8cf",
        "colab": {
          "base_uri": "https://localhost:8080/",
          "height": 282
        }
      },
      "source": [
        "# Look at some scatter plots (only plotting for a subset of data to keep things fast)\n",
        "sample = train.sample(10000)\n",
        "plt.scatter(sample['climate_vap'], sample['burn_area'], alpha=0.3)"
      ],
      "execution_count": null,
      "outputs": [
        {
          "output_type": "execute_result",
          "data": {
            "text/plain": [
              "<matplotlib.collections.PathCollection at 0x7f984229f1d0>"
            ]
          },
          "metadata": {
            "tags": []
          },
          "execution_count": 42
        },
        {
          "output_type": "display_data",
          "data": {
            "image/png": "[encoded data removed]",
            "text/plain": [
              "<Figure size 432x288 with 1 Axes>"
            ]
          },
          "metadata": {
            "tags": [],
            "needs_background": "light"
          }
        }
      ]
    },
    {
      "cell_type": "code",
      "metadata": {
        "id": "Fp-Wq1zrCets",
        "outputId": "e9d2e29a-8f55-4df0-991e-243bd1564131",
        "colab": {
          "base_uri": "https://localhost:8080/",
          "height": 282
        }
      },
      "source": [
        "# Higher temp -> more fires it looks like\n",
        "plt.scatter(sample['climate_tmmx'], sample['burn_area'], alpha=0.3)"
      ],
      "execution_count": null,
      "outputs": [
        {
          "output_type": "execute_result",
          "data": {
            "text/plain": [
              "<matplotlib.collections.PathCollection at 0x7f984866b320>"
            ]
          },
          "metadata": {
            "tags": []
          },
          "execution_count": 12
        },
        {
          "output_type": "display_data",
          "data": {
            "image/png": "[encoded data removed]",
            "text/plain": [
              "<Figure size 432x288 with 1 Axes>"
            ]
          },
          "metadata": {
            "tags": [],
            "needs_background": "light"
          }
        }
      ]
    },
    {
      "cell_type": "markdown",
      "metadata": {
        "id": "xXIk62X9iONj"
      },
      "source": [
        "##  Adding date features"
      ]
    },
    {
      "cell_type": "code",
      "metadata": {
        "id": "bag8HJpxCucw",
        "outputId": "389e0976-4302-480c-e433-7b188911b51c",
        "colab": {
          "base_uri": "https://localhost:8080/",
          "height": 299
        }
      },
      "source": [
        "# Date variables\n",
        "train['month'] = train.date.dt.month\n",
        "train['year'] = train.date.dt.year\n",
        "\n",
        "# Plotting mean burn_area for each month - very strong mid-year peak (dry season)\n",
        "train.groupby('month').mean().reset_index().plot(y='burn_area', x='month', kind='bar')"
      ],
      "execution_count": null,
      "outputs": [
        {
          "output_type": "execute_result",
          "data": {
            "text/plain": [
              "<matplotlib.axes._subplots.AxesSubplot at 0x7f984225d5c0>"
            ]
          },
          "metadata": {
            "tags": []
          },
          "execution_count": 43
        },
        {
          "output_type": "display_data",
          "data": {
            "image/png": "[encoded data removed]",
            "text/plain": [
              "<Figure size 432x288 with 1 Axes>"
            ]
          },
          "metadata": {
            "tags": [],
            "needs_background": "light"
          }
        }
      ]
    },
    {
      "cell_type": "code",
      "metadata": {
        "id": "o-Z-G6eMCznI",
        "outputId": "69b86b1a-e854-4925-eecc-3bf662e1d60b",
        "colab": {
          "base_uri": "https://localhost:8080/",
          "height": 300
        }
      },
      "source": [
        "# Plot trend year-on-year\n",
        "train.groupby('year').mean().reset_index().plot(y='burn_area', x='year', ylim=(0, 0.03))"
      ],
      "execution_count": null,
      "outputs": [
        {
          "output_type": "execute_result",
          "data": {
            "text/plain": [
              "<matplotlib.axes._subplots.AxesSubplot at 0x7f9848bf52b0>"
            ]
          },
          "metadata": {
            "tags": []
          },
          "execution_count": 14
        },
        {
          "output_type": "display_data",
          "data": {
            "image/png": "[encoded data removed]",
            "text/plain": [
              "<Figure size 432x288 with 1 Axes>"
            ]
          },
          "metadata": {
            "tags": [],
            "needs_background": "light"
          }
        }
      ]
    },
    {
      "cell_type": "code",
      "metadata": {
        "id": "BCU3WP5fEAHq",
        "outputId": "3983be21-83e9-4a88-dc94-a9150c36290e",
        "colab": {
          "base_uri": "https://localhost:8080/",
          "height": 286
        }
      },
      "source": [
        "# Let's plot precipitation and burn area on the same plot - note the inverse relationship, and the strong periodic component to both.\n",
        "ax = train.groupby('date').mean().reset_index().plot(y='burn_area', x='date')\n",
        "train.groupby('date').mean().reset_index().plot(y='precipitation', x='date', ax=ax)"
      ],
      "execution_count": null,
      "outputs": [
        {
          "output_type": "execute_result",
          "data": {
            "text/plain": [
              "<matplotlib.axes._subplots.AxesSubplot at 0x7f98484b6c88>"
            ]
          },
          "metadata": {
            "tags": []
          },
          "execution_count": 15
        },
        {
          "output_type": "display_data",
          "data": {
            "image/png": "[encoded data removed]",
            "text/plain": [
              "<Figure size 432x288 with 1 Axes>"
            ]
          },
          "metadata": {
            "tags": [],
            "needs_background": "light"
          }
        }
      ]
    },
    {
      "cell_type": "markdown",
      "metadata": {
        "id": "mgzvz9iji1hb"
      },
      "source": [
        "## Adding more features - some ideas\n",
        "\n",
        "\n",
        "\n",
        "\n",
        "*   Read the list of climate variables and what they mean. See if you can combine them in interesting ways - perhaps a 'hot_and_dry' metric...\n",
        "*   Fire depends on some processes that take a long time - for example, there may be more fuel if the previous growing season was a good one. Consider some lagged variables to give the model some inputs for what came before the current month.\n",
        "*   Make some categorical features - 'dominant_land_type' or 'is_peak_rainfall'. \n",
        "*   ...\n",
        "\n"
      ]
    },
    {
      "cell_type": "markdown",
      "metadata": {
        "id": "RDCOsUvCz3dA"
      },
      "source": [
        "# Data Split for Validation\n",
        "\n",
        "We don't want to just split randomly - this would give us artificially high scores. Instead, let's use the last 3 years of the dataset for validation to more closely match the test configuration."
      ]
    },
    {
      "cell_type": "code",
      "metadata": {
        "id": "SCk5CZKI0Kt4",
        "outputId": "3e7275e2-75da-4192-fa7a-bcc826343470",
        "colab": {
          "base_uri": "https://localhost:8080/",
          "height": 34
        }
      },
      "source": [
        "train_all = train.copy().dropna()\n",
        "train = train_all.loc[train_all.date < '2011-01-01']\n",
        "valid = train_all.loc[train_all.date > '2011-01-01']\n",
        "train = train_all[:len(train_all)//10]\n",
        "valid = train_all[:len(train_all)//10]\n",
        "print(train.shape, valid.shape)"
      ],
      "execution_count": null,
      "outputs": [
        {
          "output_type": "stream",
          "text": [
            "(62664, 34) (62664, 34)\n"
          ],
          "name": "stdout"
        }
      ]
    },
    {
      "cell_type": "markdown",
      "metadata": {
        "id": "sIRFzOxTx3sE"
      },
      "source": [
        "# Simple Model"
      ]
    },
    {
      "cell_type": "code",
      "metadata": {
        "id": "hMjgH87RzOqX",
        "outputId": "2f428c09-2718-4615-e09b-f916038cdc93",
        "colab": {
          "base_uri": "https://localhost:8080/",
          "height": 151
        }
      },
      "source": [
        "# Define input and output columns\n",
        "in_cols = train.columns[6:]\n",
        "target_col = 'burn_area'\n",
        "in_cols"
      ],
      "execution_count": null,
      "outputs": [
        {
          "output_type": "execute_result",
          "data": {
            "text/plain": [
              "Index(['climate_aet', 'climate_def', 'climate_pdsi', 'climate_pet',\n",
              "       'climate_pr', 'climate_ro', 'climate_soil', 'climate_srad',\n",
              "       'climate_swe', 'climate_tmmn', 'climate_tmmx', 'climate_vap',\n",
              "       'climate_vpd', 'climate_vs', 'elevation', 'landcover_0', 'landcover_1',\n",
              "       'landcover_2', 'landcover_3', 'landcover_4', 'landcover_5',\n",
              "       'landcover_6', 'landcover_7', 'landcover_8', 'population_density',\n",
              "       'precipitation', 'month', 'year'],\n",
              "      dtype='object')"
            ]
          },
          "metadata": {
            "tags": []
          },
          "execution_count": 44
        }
      ]
    },
    {
      "cell_type": "code",
      "metadata": {
        "id": "l-8j9zDpzUpc"
      },
      "source": [
        "# Get our X and y training and validation sets ready\n",
        "X_train, y_train = train[in_cols], train[target_col]\n",
        "X_valid, y_valid = valid[in_cols], valid[target_col]"
      ],
      "execution_count": null,
      "outputs": []
    },
    {
      "cell_type": "code",
      "metadata": {
        "id": "isI_-sfnzXED",
        "outputId": "4dbeddcc-d198-4ae0-ab73-87675b1ffb02",
        "colab": {
          "base_uri": "https://localhost:8080/",
          "height": 454
        }
      },
      "source": [
        "#Create array of models to evaluate\n",
        "models = []\n",
        "models.append(('LiR', LinearRegression()))\n",
        "models.append(('Ridge', Ridge()))\n",
        "models.append(('Lasso', Lasso()))\n",
        "models.append(('ElasticNet', ElasticNet()))\n",
        "models.append(('Bag_Re', BaggingRegressor()))\n",
        "models.append(('RandomForest', RandomForestRegressor(n_estimators=10)))\n",
        "models.append(('ExtraTreesRegressor', ExtraTreesRegressor(n_estimators=10)))\n",
        "models.append(('KNN', KNeighborsRegressor()))\n",
        "models.append(('CART', DecisionTreeRegressor()))\n",
        "models.append(('SVM', SVR()))\n",
        "\n",
        "# Evaluations\n",
        "results = []\n",
        "names = []\n",
        "scoring = []\n",
        "\n",
        "for name, model in models:\n",
        "    # Fit the model\n",
        "    model.fit(X_train, y_train)\n",
        "    \n",
        "    predictions = model.predict(X_valid)\n",
        "    \n",
        "    # Evaluate the model\n",
        "    score = mean_squared_error(y_valid, predictions)**0.5\n",
        "    #mae = mean_absolute_error(predictions, Y)\n",
        "    # print(\"%s: %.2f%%\" % (model.metrics_names[1], scores[1]*100))\n",
        "    results.append(score)\n",
        "    names.append(name)\n",
        "    \n",
        "    msg = \"%s: %f \" % (name, score)\n",
        "    print(msg)\n",
        "    "
      ],
      "execution_count": null,
      "outputs": [
        {
          "output_type": "stream",
          "text": [
            "LiR: 0.052156 \n",
            "Ridge: 0.052158 \n",
            "Lasso: 0.053892 \n",
            "ElasticNet: 0.053957 \n"
          ],
          "name": "stdout"
        },
        {
          "output_type": "error",
          "ename": "KeyboardInterrupt",
          "evalue": "ignored",
          "traceback": [
            "\u001b[0;31m---------------------------------------------------------------------------\u001b[0m",
            "\u001b[0;31mKeyboardInterrupt\u001b[0m                         Traceback (most recent call last)",
            "\u001b[0;32m<ipython-input-48-c32815f23201>\u001b[0m in \u001b[0;36m<module>\u001b[0;34m()\u001b[0m\n\u001b[1;32m     19\u001b[0m \u001b[0;32mfor\u001b[0m \u001b[0mname\u001b[0m\u001b[0;34m,\u001b[0m \u001b[0mmodel\u001b[0m \u001b[0;32min\u001b[0m \u001b[0mmodels\u001b[0m\u001b[0;34m:\u001b[0m\u001b[0;34m\u001b[0m\u001b[0;34m\u001b[0m\u001b[0m\n\u001b[1;32m     20\u001b[0m     \u001b[0;31m# Fit the model\u001b[0m\u001b[0;34m\u001b[0m\u001b[0;34m\u001b[0m\u001b[0;34m\u001b[0m\u001b[0m\n\u001b[0;32m---> 21\u001b[0;31m     \u001b[0mmodel\u001b[0m\u001b[0;34m.\u001b[0m\u001b[0mfit\u001b[0m\u001b[0;34m(\u001b[0m\u001b[0mX_train\u001b[0m\u001b[0;34m,\u001b[0m \u001b[0my_train\u001b[0m\u001b[0;34m)\u001b[0m\u001b[0;34m\u001b[0m\u001b[0;34m\u001b[0m\u001b[0m\n\u001b[0m\u001b[1;32m     22\u001b[0m \u001b[0;34m\u001b[0m\u001b[0m\n\u001b[1;32m     23\u001b[0m     \u001b[0mpredictions\u001b[0m \u001b[0;34m=\u001b[0m \u001b[0mmodel\u001b[0m\u001b[0;34m.\u001b[0m\u001b[0mpredict\u001b[0m\u001b[0;34m(\u001b[0m\u001b[0mX_valid\u001b[0m\u001b[0;34m)\u001b[0m\u001b[0;34m\u001b[0m\u001b[0;34m\u001b[0m\u001b[0m\n",
            "\u001b[0;32m/usr/local/lib/python3.6/dist-packages/sklearn/ensemble/_bagging.py\u001b[0m in \u001b[0;36mfit\u001b[0;34m(self, X, y, sample_weight)\u001b[0m\n\u001b[1;32m    241\u001b[0m         \u001b[0mself\u001b[0m \u001b[0;34m:\u001b[0m \u001b[0mobject\u001b[0m\u001b[0;34m\u001b[0m\u001b[0;34m\u001b[0m\u001b[0m\n\u001b[1;32m    242\u001b[0m         \"\"\"\n\u001b[0;32m--> 243\u001b[0;31m         \u001b[0;32mreturn\u001b[0m \u001b[0mself\u001b[0m\u001b[0;34m.\u001b[0m\u001b[0m_fit\u001b[0m\u001b[0;34m(\u001b[0m\u001b[0mX\u001b[0m\u001b[0;34m,\u001b[0m \u001b[0my\u001b[0m\u001b[0;34m,\u001b[0m \u001b[0mself\u001b[0m\u001b[0;34m.\u001b[0m\u001b[0mmax_samples\u001b[0m\u001b[0;34m,\u001b[0m \u001b[0msample_weight\u001b[0m\u001b[0;34m=\u001b[0m\u001b[0msample_weight\u001b[0m\u001b[0;34m)\u001b[0m\u001b[0;34m\u001b[0m\u001b[0;34m\u001b[0m\u001b[0m\n\u001b[0m\u001b[1;32m    244\u001b[0m \u001b[0;34m\u001b[0m\u001b[0m\n\u001b[1;32m    245\u001b[0m     \u001b[0;32mdef\u001b[0m \u001b[0m_parallel_args\u001b[0m\u001b[0;34m(\u001b[0m\u001b[0mself\u001b[0m\u001b[0;34m)\u001b[0m\u001b[0;34m:\u001b[0m\u001b[0;34m\u001b[0m\u001b[0;34m\u001b[0m\u001b[0m\n",
            "\u001b[0;32m/usr/local/lib/python3.6/dist-packages/sklearn/ensemble/_bagging.py\u001b[0m in \u001b[0;36m_fit\u001b[0;34m(self, X, y, max_samples, max_depth, sample_weight)\u001b[0m\n\u001b[1;32m    378\u001b[0m                 \u001b[0mtotal_n_estimators\u001b[0m\u001b[0;34m,\u001b[0m\u001b[0;34m\u001b[0m\u001b[0;34m\u001b[0m\u001b[0m\n\u001b[1;32m    379\u001b[0m                 verbose=self.verbose)\n\u001b[0;32m--> 380\u001b[0;31m             for i in range(n_jobs))\n\u001b[0m\u001b[1;32m    381\u001b[0m \u001b[0;34m\u001b[0m\u001b[0m\n\u001b[1;32m    382\u001b[0m         \u001b[0;31m# Reduce\u001b[0m\u001b[0;34m\u001b[0m\u001b[0;34m\u001b[0m\u001b[0;34m\u001b[0m\u001b[0m\n",
            "\u001b[0;32m/usr/local/lib/python3.6/dist-packages/joblib/parallel.py\u001b[0m in \u001b[0;36m__call__\u001b[0;34m(self, iterable)\u001b[0m\n\u001b[1;32m   1027\u001b[0m             \u001b[0;31m# remaining jobs.\u001b[0m\u001b[0;34m\u001b[0m\u001b[0;34m\u001b[0m\u001b[0;34m\u001b[0m\u001b[0m\n\u001b[1;32m   1028\u001b[0m             \u001b[0mself\u001b[0m\u001b[0;34m.\u001b[0m\u001b[0m_iterating\u001b[0m \u001b[0;34m=\u001b[0m \u001b[0;32mFalse\u001b[0m\u001b[0;34m\u001b[0m\u001b[0;34m\u001b[0m\u001b[0m\n\u001b[0;32m-> 1029\u001b[0;31m             \u001b[0;32mif\u001b[0m \u001b[0mself\u001b[0m\u001b[0;34m.\u001b[0m\u001b[0mdispatch_one_batch\u001b[0m\u001b[0;34m(\u001b[0m\u001b[0miterator\u001b[0m\u001b[0;34m)\u001b[0m\u001b[0;34m:\u001b[0m\u001b[0;34m\u001b[0m\u001b[0;34m\u001b[0m\u001b[0m\n\u001b[0m\u001b[1;32m   1030\u001b[0m                 \u001b[0mself\u001b[0m\u001b[0;34m.\u001b[0m\u001b[0m_iterating\u001b[0m \u001b[0;34m=\u001b[0m \u001b[0mself\u001b[0m\u001b[0;34m.\u001b[0m\u001b[0m_original_iterator\u001b[0m \u001b[0;32mis\u001b[0m \u001b[0;32mnot\u001b[0m \u001b[0;32mNone\u001b[0m\u001b[0;34m\u001b[0m\u001b[0;34m\u001b[0m\u001b[0m\n\u001b[1;32m   1031\u001b[0m \u001b[0;34m\u001b[0m\u001b[0m\n",
            "\u001b[0;32m/usr/local/lib/python3.6/dist-packages/joblib/parallel.py\u001b[0m in \u001b[0;36mdispatch_one_batch\u001b[0;34m(self, iterator)\u001b[0m\n\u001b[1;32m    845\u001b[0m                 \u001b[0;32mreturn\u001b[0m \u001b[0;32mFalse\u001b[0m\u001b[0;34m\u001b[0m\u001b[0;34m\u001b[0m\u001b[0m\n\u001b[1;32m    846\u001b[0m             \u001b[0;32melse\u001b[0m\u001b[0;34m:\u001b[0m\u001b[0;34m\u001b[0m\u001b[0;34m\u001b[0m\u001b[0m\n\u001b[0;32m--> 847\u001b[0;31m                 \u001b[0mself\u001b[0m\u001b[0;34m.\u001b[0m\u001b[0m_dispatch\u001b[0m\u001b[0;34m(\u001b[0m\u001b[0mtasks\u001b[0m\u001b[0;34m)\u001b[0m\u001b[0;34m\u001b[0m\u001b[0;34m\u001b[0m\u001b[0m\n\u001b[0m\u001b[1;32m    848\u001b[0m                 \u001b[0;32mreturn\u001b[0m \u001b[0;32mTrue\u001b[0m\u001b[0;34m\u001b[0m\u001b[0;34m\u001b[0m\u001b[0m\n\u001b[1;32m    849\u001b[0m \u001b[0;34m\u001b[0m\u001b[0m\n",
            "\u001b[0;32m/usr/local/lib/python3.6/dist-packages/joblib/parallel.py\u001b[0m in \u001b[0;36m_dispatch\u001b[0;34m(self, batch)\u001b[0m\n\u001b[1;32m    763\u001b[0m         \u001b[0;32mwith\u001b[0m \u001b[0mself\u001b[0m\u001b[0;34m.\u001b[0m\u001b[0m_lock\u001b[0m\u001b[0;34m:\u001b[0m\u001b[0;34m\u001b[0m\u001b[0;34m\u001b[0m\u001b[0m\n\u001b[1;32m    764\u001b[0m             \u001b[0mjob_idx\u001b[0m \u001b[0;34m=\u001b[0m \u001b[0mlen\u001b[0m\u001b[0;34m(\u001b[0m\u001b[0mself\u001b[0m\u001b[0;34m.\u001b[0m\u001b[0m_jobs\u001b[0m\u001b[0;34m)\u001b[0m\u001b[0;34m\u001b[0m\u001b[0;34m\u001b[0m\u001b[0m\n\u001b[0;32m--> 765\u001b[0;31m             \u001b[0mjob\u001b[0m \u001b[0;34m=\u001b[0m \u001b[0mself\u001b[0m\u001b[0;34m.\u001b[0m\u001b[0m_backend\u001b[0m\u001b[0;34m.\u001b[0m\u001b[0mapply_async\u001b[0m\u001b[0;34m(\u001b[0m\u001b[0mbatch\u001b[0m\u001b[0;34m,\u001b[0m \u001b[0mcallback\u001b[0m\u001b[0;34m=\u001b[0m\u001b[0mcb\u001b[0m\u001b[0;34m)\u001b[0m\u001b[0;34m\u001b[0m\u001b[0;34m\u001b[0m\u001b[0m\n\u001b[0m\u001b[1;32m    766\u001b[0m             \u001b[0;31m# A job can complete so quickly than its callback is\u001b[0m\u001b[0;34m\u001b[0m\u001b[0;34m\u001b[0m\u001b[0;34m\u001b[0m\u001b[0m\n\u001b[1;32m    767\u001b[0m             \u001b[0;31m# called before we get here, causing self._jobs to\u001b[0m\u001b[0;34m\u001b[0m\u001b[0;34m\u001b[0m\u001b[0;34m\u001b[0m\u001b[0m\n",
            "\u001b[0;32m/usr/local/lib/python3.6/dist-packages/joblib/_parallel_backends.py\u001b[0m in \u001b[0;36mapply_async\u001b[0;34m(self, func, callback)\u001b[0m\n\u001b[1;32m    206\u001b[0m     \u001b[0;32mdef\u001b[0m \u001b[0mapply_async\u001b[0m\u001b[0;34m(\u001b[0m\u001b[0mself\u001b[0m\u001b[0;34m,\u001b[0m \u001b[0mfunc\u001b[0m\u001b[0;34m,\u001b[0m \u001b[0mcallback\u001b[0m\u001b[0;34m=\u001b[0m\u001b[0;32mNone\u001b[0m\u001b[0;34m)\u001b[0m\u001b[0;34m:\u001b[0m\u001b[0;34m\u001b[0m\u001b[0;34m\u001b[0m\u001b[0m\n\u001b[1;32m    207\u001b[0m         \u001b[0;34m\"\"\"Schedule a func to be run\"\"\"\u001b[0m\u001b[0;34m\u001b[0m\u001b[0;34m\u001b[0m\u001b[0m\n\u001b[0;32m--> 208\u001b[0;31m         \u001b[0mresult\u001b[0m \u001b[0;34m=\u001b[0m \u001b[0mImmediateResult\u001b[0m\u001b[0;34m(\u001b[0m\u001b[0mfunc\u001b[0m\u001b[0;34m)\u001b[0m\u001b[0;34m\u001b[0m\u001b[0;34m\u001b[0m\u001b[0m\n\u001b[0m\u001b[1;32m    209\u001b[0m         \u001b[0;32mif\u001b[0m \u001b[0mcallback\u001b[0m\u001b[0;34m:\u001b[0m\u001b[0;34m\u001b[0m\u001b[0;34m\u001b[0m\u001b[0m\n\u001b[1;32m    210\u001b[0m             \u001b[0mcallback\u001b[0m\u001b[0;34m(\u001b[0m\u001b[0mresult\u001b[0m\u001b[0;34m)\u001b[0m\u001b[0;34m\u001b[0m\u001b[0;34m\u001b[0m\u001b[0m\n",
            "\u001b[0;32m/usr/local/lib/python3.6/dist-packages/joblib/_parallel_backends.py\u001b[0m in \u001b[0;36m__init__\u001b[0;34m(self, batch)\u001b[0m\n\u001b[1;32m    570\u001b[0m         \u001b[0;31m# Don't delay the application, to avoid keeping the input\u001b[0m\u001b[0;34m\u001b[0m\u001b[0;34m\u001b[0m\u001b[0;34m\u001b[0m\u001b[0m\n\u001b[1;32m    571\u001b[0m         \u001b[0;31m# arguments in memory\u001b[0m\u001b[0;34m\u001b[0m\u001b[0;34m\u001b[0m\u001b[0;34m\u001b[0m\u001b[0m\n\u001b[0;32m--> 572\u001b[0;31m         \u001b[0mself\u001b[0m\u001b[0;34m.\u001b[0m\u001b[0mresults\u001b[0m \u001b[0;34m=\u001b[0m \u001b[0mbatch\u001b[0m\u001b[0;34m(\u001b[0m\u001b[0;34m)\u001b[0m\u001b[0;34m\u001b[0m\u001b[0;34m\u001b[0m\u001b[0m\n\u001b[0m\u001b[1;32m    573\u001b[0m \u001b[0;34m\u001b[0m\u001b[0m\n\u001b[1;32m    574\u001b[0m     \u001b[0;32mdef\u001b[0m \u001b[0mget\u001b[0m\u001b[0;34m(\u001b[0m\u001b[0mself\u001b[0m\u001b[0;34m)\u001b[0m\u001b[0;34m:\u001b[0m\u001b[0;34m\u001b[0m\u001b[0;34m\u001b[0m\u001b[0m\n",
            "\u001b[0;32m/usr/local/lib/python3.6/dist-packages/joblib/parallel.py\u001b[0m in \u001b[0;36m__call__\u001b[0;34m(self)\u001b[0m\n\u001b[1;32m    251\u001b[0m         \u001b[0;32mwith\u001b[0m \u001b[0mparallel_backend\u001b[0m\u001b[0;34m(\u001b[0m\u001b[0mself\u001b[0m\u001b[0;34m.\u001b[0m\u001b[0m_backend\u001b[0m\u001b[0;34m,\u001b[0m \u001b[0mn_jobs\u001b[0m\u001b[0;34m=\u001b[0m\u001b[0mself\u001b[0m\u001b[0;34m.\u001b[0m\u001b[0m_n_jobs\u001b[0m\u001b[0;34m)\u001b[0m\u001b[0;34m:\u001b[0m\u001b[0;34m\u001b[0m\u001b[0;34m\u001b[0m\u001b[0m\n\u001b[1;32m    252\u001b[0m             return [func(*args, **kwargs)\n\u001b[0;32m--> 253\u001b[0;31m                     for func, args, kwargs in self.items]\n\u001b[0m\u001b[1;32m    254\u001b[0m \u001b[0;34m\u001b[0m\u001b[0m\n\u001b[1;32m    255\u001b[0m     \u001b[0;32mdef\u001b[0m \u001b[0m__reduce__\u001b[0m\u001b[0;34m(\u001b[0m\u001b[0mself\u001b[0m\u001b[0;34m)\u001b[0m\u001b[0;34m:\u001b[0m\u001b[0;34m\u001b[0m\u001b[0;34m\u001b[0m\u001b[0m\n",
            "\u001b[0;32m/usr/local/lib/python3.6/dist-packages/joblib/parallel.py\u001b[0m in \u001b[0;36m<listcomp>\u001b[0;34m(.0)\u001b[0m\n\u001b[1;32m    251\u001b[0m         \u001b[0;32mwith\u001b[0m \u001b[0mparallel_backend\u001b[0m\u001b[0;34m(\u001b[0m\u001b[0mself\u001b[0m\u001b[0;34m.\u001b[0m\u001b[0m_backend\u001b[0m\u001b[0;34m,\u001b[0m \u001b[0mn_jobs\u001b[0m\u001b[0;34m=\u001b[0m\u001b[0mself\u001b[0m\u001b[0;34m.\u001b[0m\u001b[0m_n_jobs\u001b[0m\u001b[0;34m)\u001b[0m\u001b[0;34m:\u001b[0m\u001b[0;34m\u001b[0m\u001b[0;34m\u001b[0m\u001b[0m\n\u001b[1;32m    252\u001b[0m             return [func(*args, **kwargs)\n\u001b[0;32m--> 253\u001b[0;31m                     for func, args, kwargs in self.items]\n\u001b[0m\u001b[1;32m    254\u001b[0m \u001b[0;34m\u001b[0m\u001b[0m\n\u001b[1;32m    255\u001b[0m     \u001b[0;32mdef\u001b[0m \u001b[0m__reduce__\u001b[0m\u001b[0;34m(\u001b[0m\u001b[0mself\u001b[0m\u001b[0;34m)\u001b[0m\u001b[0;34m:\u001b[0m\u001b[0;34m\u001b[0m\u001b[0;34m\u001b[0m\u001b[0m\n",
            "\u001b[0;32m/usr/local/lib/python3.6/dist-packages/sklearn/ensemble/_bagging.py\u001b[0m in \u001b[0;36m_parallel_build_estimators\u001b[0;34m(n_estimators, ensemble, X, y, sample_weight, seeds, total_n_estimators, verbose)\u001b[0m\n\u001b[1;32m    108\u001b[0m                 \u001b[0mcurr_sample_weight\u001b[0m\u001b[0;34m[\u001b[0m\u001b[0mnot_indices_mask\u001b[0m\u001b[0;34m]\u001b[0m \u001b[0;34m=\u001b[0m \u001b[0;36m0\u001b[0m\u001b[0;34m\u001b[0m\u001b[0;34m\u001b[0m\u001b[0m\n\u001b[1;32m    109\u001b[0m \u001b[0;34m\u001b[0m\u001b[0m\n\u001b[0;32m--> 110\u001b[0;31m             \u001b[0mestimator\u001b[0m\u001b[0;34m.\u001b[0m\u001b[0mfit\u001b[0m\u001b[0;34m(\u001b[0m\u001b[0mX\u001b[0m\u001b[0;34m[\u001b[0m\u001b[0;34m:\u001b[0m\u001b[0;34m,\u001b[0m \u001b[0mfeatures\u001b[0m\u001b[0;34m]\u001b[0m\u001b[0;34m,\u001b[0m \u001b[0my\u001b[0m\u001b[0;34m,\u001b[0m \u001b[0msample_weight\u001b[0m\u001b[0;34m=\u001b[0m\u001b[0mcurr_sample_weight\u001b[0m\u001b[0;34m)\u001b[0m\u001b[0;34m\u001b[0m\u001b[0;34m\u001b[0m\u001b[0m\n\u001b[0m\u001b[1;32m    111\u001b[0m \u001b[0;34m\u001b[0m\u001b[0m\n\u001b[1;32m    112\u001b[0m         \u001b[0;32melse\u001b[0m\u001b[0;34m:\u001b[0m\u001b[0;34m\u001b[0m\u001b[0;34m\u001b[0m\u001b[0m\n",
            "\u001b[0;32m/usr/local/lib/python3.6/dist-packages/sklearn/tree/_classes.py\u001b[0m in \u001b[0;36mfit\u001b[0;34m(self, X, y, sample_weight, check_input, X_idx_sorted)\u001b[0m\n\u001b[1;32m   1223\u001b[0m             \u001b[0msample_weight\u001b[0m\u001b[0;34m=\u001b[0m\u001b[0msample_weight\u001b[0m\u001b[0;34m,\u001b[0m\u001b[0;34m\u001b[0m\u001b[0;34m\u001b[0m\u001b[0m\n\u001b[1;32m   1224\u001b[0m             \u001b[0mcheck_input\u001b[0m\u001b[0;34m=\u001b[0m\u001b[0mcheck_input\u001b[0m\u001b[0;34m,\u001b[0m\u001b[0;34m\u001b[0m\u001b[0;34m\u001b[0m\u001b[0m\n\u001b[0;32m-> 1225\u001b[0;31m             X_idx_sorted=X_idx_sorted)\n\u001b[0m\u001b[1;32m   1226\u001b[0m         \u001b[0;32mreturn\u001b[0m \u001b[0mself\u001b[0m\u001b[0;34m\u001b[0m\u001b[0;34m\u001b[0m\u001b[0m\n\u001b[1;32m   1227\u001b[0m \u001b[0;34m\u001b[0m\u001b[0m\n",
            "\u001b[0;32m/usr/local/lib/python3.6/dist-packages/sklearn/tree/_classes.py\u001b[0m in \u001b[0;36mfit\u001b[0;34m(self, X, y, sample_weight, check_input, X_idx_sorted)\u001b[0m\n\u001b[1;32m    365\u001b[0m                                            min_impurity_split)\n\u001b[1;32m    366\u001b[0m \u001b[0;34m\u001b[0m\u001b[0m\n\u001b[0;32m--> 367\u001b[0;31m         \u001b[0mbuilder\u001b[0m\u001b[0;34m.\u001b[0m\u001b[0mbuild\u001b[0m\u001b[0;34m(\u001b[0m\u001b[0mself\u001b[0m\u001b[0;34m.\u001b[0m\u001b[0mtree_\u001b[0m\u001b[0;34m,\u001b[0m \u001b[0mX\u001b[0m\u001b[0;34m,\u001b[0m \u001b[0my\u001b[0m\u001b[0;34m,\u001b[0m \u001b[0msample_weight\u001b[0m\u001b[0;34m,\u001b[0m \u001b[0mX_idx_sorted\u001b[0m\u001b[0;34m)\u001b[0m\u001b[0;34m\u001b[0m\u001b[0;34m\u001b[0m\u001b[0m\n\u001b[0m\u001b[1;32m    368\u001b[0m \u001b[0;34m\u001b[0m\u001b[0m\n\u001b[1;32m    369\u001b[0m         \u001b[0;32mif\u001b[0m \u001b[0mself\u001b[0m\u001b[0;34m.\u001b[0m\u001b[0mn_outputs_\u001b[0m \u001b[0;34m==\u001b[0m \u001b[0;36m1\u001b[0m \u001b[0;32mand\u001b[0m \u001b[0mis_classifier\u001b[0m\u001b[0;34m(\u001b[0m\u001b[0mself\u001b[0m\u001b[0;34m)\u001b[0m\u001b[0;34m:\u001b[0m\u001b[0;34m\u001b[0m\u001b[0;34m\u001b[0m\u001b[0m\n",
            "\u001b[0;31mKeyboardInterrupt\u001b[0m: "
          ]
        }
      ]
    },
    {
      "cell_type": "code",
      "metadata": {
        "id": "0SPMK4PDX9OW",
        "outputId": "11802975-cbfe-4d47-8611-7b07758bf328",
        "colab": {
          "base_uri": "https://localhost:8080/",
          "height": 50
        }
      },
      "source": [
        "%%time\n",
        "# Create and fit the model\n",
        "model = ExtraTreesRegressor(n_estimators=50)\n",
        "model.fit(X_train, y_train)\n",
        "\n",
        "# Make predictions\n",
        "preds = model.predict(X_valid)\n",
        "\n",
        "# Score\n",
        "mean_squared_error(y_valid, preds)**0.5 # RMSE - should match Zindi score. Lower is better"
      ],
      "execution_count": null,
      "outputs": [
        {
          "output_type": "stream",
          "text": [
            "CPU times: user 2min 25s, sys: 429 ms, total: 2min 25s\n",
            "Wall time: 2min 26s\n"
          ],
          "name": "stdout"
        }
      ]
    },
    {
      "cell_type": "markdown",
      "metadata": {
        "id": "Eq7DM0URkkai"
      },
      "source": [
        "# Making A Submission\n",
        "\n",
        "Once you've got some features and a model you're happy with, it's time to submit!"
      ]
    },
    {
      "cell_type": "code",
      "metadata": {
        "id": "bb8DdgWskqQs",
        "outputId": "832de542-23d1-4641-c824-dc9d18e0cc44",
        "colab": {
          "base_uri": "https://localhost:8080/",
          "height": 195
        }
      },
      "source": [
        "# Look at the sample submission file\n",
        "ss = pd.read_csv('ss.csv')\n",
        "ss.head()"
      ],
      "execution_count": null,
      "outputs": [
        {
          "output_type": "execute_result",
          "data": {
            "text/html": [
              "<div>\n",
              "<style scoped>\n",
              "    .dataframe tbody tr th:only-of-type {\n",
              "        vertical-align: middle;\n",
              "    }\n",
              "\n",
              "    .dataframe tbody tr th {\n",
              "        vertical-align: top;\n",
              "    }\n",
              "\n",
              "    .dataframe thead th {\n",
              "        text-align: right;\n",
              "    }\n",
              "</style>\n",
              "<table border=\"1\" class=\"dataframe\">\n",
              "  <thead>\n",
              "    <tr style=\"text-align: right;\">\n",
              "      <th></th>\n",
              "      <th>ID</th>\n",
              "      <th>Prediction</th>\n",
              "    </tr>\n",
              "  </thead>\n",
              "  <tbody>\n",
              "    <tr>\n",
              "      <th>0</th>\n",
              "      <td>0_2014-01-01</td>\n",
              "      <td>0</td>\n",
              "    </tr>\n",
              "    <tr>\n",
              "      <th>1</th>\n",
              "      <td>1_2014-01-01</td>\n",
              "      <td>0</td>\n",
              "    </tr>\n",
              "    <tr>\n",
              "      <th>2</th>\n",
              "      <td>2_2014-01-01</td>\n",
              "      <td>0</td>\n",
              "    </tr>\n",
              "    <tr>\n",
              "      <th>3</th>\n",
              "      <td>3_2014-01-01</td>\n",
              "      <td>0</td>\n",
              "    </tr>\n",
              "    <tr>\n",
              "      <th>4</th>\n",
              "      <td>4_2014-01-01</td>\n",
              "      <td>0</td>\n",
              "    </tr>\n",
              "  </tbody>\n",
              "</table>\n",
              "</div>"
            ],
            "text/plain": [
              "             ID  Prediction\n",
              "0  0_2014-01-01           0\n",
              "1  1_2014-01-01           0\n",
              "2  2_2014-01-01           0\n",
              "3  3_2014-01-01           0\n",
              "4  4_2014-01-01           0"
            ]
          },
          "metadata": {
            "tags": []
          },
          "execution_count": 50
        }
      ]
    },
    {
      "cell_type": "code",
      "metadata": {
        "id": "MlKjnZ8WkvaX",
        "outputId": "02a63063-eb1c-4f9e-823b-70423cb02c2b",
        "colab": {
          "base_uri": "https://localhost:8080/",
          "height": 299
        }
      },
      "source": [
        "# And the test data\n",
        "test.head()"
      ],
      "execution_count": null,
      "outputs": [
        {
          "output_type": "execute_result",
          "data": {
            "text/html": [
              "<div>\n",
              "<style scoped>\n",
              "    .dataframe tbody tr th:only-of-type {\n",
              "        vertical-align: middle;\n",
              "    }\n",
              "\n",
              "    .dataframe tbody tr th {\n",
              "        vertical-align: top;\n",
              "    }\n",
              "\n",
              "    .dataframe thead th {\n",
              "        text-align: right;\n",
              "    }\n",
              "</style>\n",
              "<table border=\"1\" class=\"dataframe\">\n",
              "  <thead>\n",
              "    <tr style=\"text-align: right;\">\n",
              "      <th></th>\n",
              "      <th>ID</th>\n",
              "      <th>area</th>\n",
              "      <th>date</th>\n",
              "      <th>lat</th>\n",
              "      <th>lon</th>\n",
              "      <th>burn_area</th>\n",
              "      <th>climate_aet</th>\n",
              "      <th>climate_def</th>\n",
              "      <th>climate_pdsi</th>\n",
              "      <th>climate_pet</th>\n",
              "      <th>climate_pr</th>\n",
              "      <th>climate_ro</th>\n",
              "      <th>climate_soil</th>\n",
              "      <th>climate_srad</th>\n",
              "      <th>climate_swe</th>\n",
              "      <th>climate_tmmn</th>\n",
              "      <th>climate_tmmx</th>\n",
              "      <th>climate_vap</th>\n",
              "      <th>climate_vpd</th>\n",
              "      <th>climate_vs</th>\n",
              "      <th>elevation</th>\n",
              "      <th>landcover_0</th>\n",
              "      <th>landcover_1</th>\n",
              "      <th>landcover_2</th>\n",
              "      <th>landcover_3</th>\n",
              "      <th>landcover_4</th>\n",
              "      <th>landcover_5</th>\n",
              "      <th>landcover_6</th>\n",
              "      <th>landcover_7</th>\n",
              "      <th>landcover_8</th>\n",
              "      <th>population_density</th>\n",
              "      <th>precipitation</th>\n",
              "    </tr>\n",
              "  </thead>\n",
              "  <tbody>\n",
              "    <tr>\n",
              "      <th>0</th>\n",
              "      <td>0_2014-01-01</td>\n",
              "      <td>0</td>\n",
              "      <td>2014-01-01</td>\n",
              "      <td>25.447</td>\n",
              "      <td>5.296</td>\n",
              "      <td>0</td>\n",
              "      <td>142.756021</td>\n",
              "      <td>1217.926180</td>\n",
              "      <td>-953.401012</td>\n",
              "      <td>1360.571291</td>\n",
              "      <td>1.000000</td>\n",
              "      <td>0.0</td>\n",
              "      <td>355.593690</td>\n",
              "      <td>2349.499157</td>\n",
              "      <td>0.0</td>\n",
              "      <td>187.541787</td>\n",
              "      <td>332.578998</td>\n",
              "      <td>2542.124518</td>\n",
              "      <td>111.013969</td>\n",
              "      <td>156.563945</td>\n",
              "      <td>590.564102</td>\n",
              "      <td>0.0</td>\n",
              "      <td>0.0</td>\n",
              "      <td>0.430648</td>\n",
              "      <td>0.0</td>\n",
              "      <td>0.569045</td>\n",
              "      <td>0.0</td>\n",
              "      <td>0.000307</td>\n",
              "      <td>0.0</td>\n",
              "      <td>0.0</td>\n",
              "      <td>2.773423</td>\n",
              "      <td>0.000457</td>\n",
              "    </tr>\n",
              "    <tr>\n",
              "      <th>1</th>\n",
              "      <td>1_2014-01-01</td>\n",
              "      <td>1</td>\n",
              "      <td>2014-01-01</td>\n",
              "      <td>25.669</td>\n",
              "      <td>5.293</td>\n",
              "      <td>0</td>\n",
              "      <td>154.836847</td>\n",
              "      <td>1193.866315</td>\n",
              "      <td>-961.703043</td>\n",
              "      <td>1348.688788</td>\n",
              "      <td>1.000000</td>\n",
              "      <td>0.0</td>\n",
              "      <td>382.206636</td>\n",
              "      <td>2340.597389</td>\n",
              "      <td>0.0</td>\n",
              "      <td>185.895903</td>\n",
              "      <td>330.826066</td>\n",
              "      <td>2551.085649</td>\n",
              "      <td>106.576545</td>\n",
              "      <td>158.165429</td>\n",
              "      <td>611.544277</td>\n",
              "      <td>0.0</td>\n",
              "      <td>0.0</td>\n",
              "      <td>0.494624</td>\n",
              "      <td>0.0</td>\n",
              "      <td>0.505068</td>\n",
              "      <td>0.0</td>\n",
              "      <td>0.000307</td>\n",
              "      <td>0.0</td>\n",
              "      <td>0.0</td>\n",
              "      <td>4.697883</td>\n",
              "      <td>0.000129</td>\n",
              "    </tr>\n",
              "    <tr>\n",
              "      <th>2</th>\n",
              "      <td>2_2014-01-01</td>\n",
              "      <td>2</td>\n",
              "      <td>2014-01-01</td>\n",
              "      <td>25.443</td>\n",
              "      <td>5.074</td>\n",
              "      <td>0</td>\n",
              "      <td>127.790933</td>\n",
              "      <td>1223.640222</td>\n",
              "      <td>-962.435857</td>\n",
              "      <td>1351.521823</td>\n",
              "      <td>1.000000</td>\n",
              "      <td>0.0</td>\n",
              "      <td>318.078852</td>\n",
              "      <td>2351.867856</td>\n",
              "      <td>0.0</td>\n",
              "      <td>188.441645</td>\n",
              "      <td>330.077285</td>\n",
              "      <td>2551.183265</td>\n",
              "      <td>107.104292</td>\n",
              "      <td>153.257656</td>\n",
              "      <td>594.188987</td>\n",
              "      <td>0.0</td>\n",
              "      <td>0.0</td>\n",
              "      <td>0.288343</td>\n",
              "      <td>0.0</td>\n",
              "      <td>0.711657</td>\n",
              "      <td>0.0</td>\n",
              "      <td>0.000000</td>\n",
              "      <td>0.0</td>\n",
              "      <td>0.0</td>\n",
              "      <td>2.488614</td>\n",
              "      <td>0.000398</td>\n",
              "    </tr>\n",
              "    <tr>\n",
              "      <th>3</th>\n",
              "      <td>3_2014-01-01</td>\n",
              "      <td>3</td>\n",
              "      <td>2014-01-01</td>\n",
              "      <td>25.665</td>\n",
              "      <td>5.070</td>\n",
              "      <td>0</td>\n",
              "      <td>136.924571</td>\n",
              "      <td>1201.258784</td>\n",
              "      <td>-961.326298</td>\n",
              "      <td>1338.120278</td>\n",
              "      <td>1.000000</td>\n",
              "      <td>0.0</td>\n",
              "      <td>339.386497</td>\n",
              "      <td>2348.509414</td>\n",
              "      <td>0.0</td>\n",
              "      <td>185.393692</td>\n",
              "      <td>326.942319</td>\n",
              "      <td>2539.815326</td>\n",
              "      <td>101.962346</td>\n",
              "      <td>155.518048</td>\n",
              "      <td>645.362481</td>\n",
              "      <td>0.0</td>\n",
              "      <td>0.0</td>\n",
              "      <td>0.492103</td>\n",
              "      <td>0.0</td>\n",
              "      <td>0.507897</td>\n",
              "      <td>0.0</td>\n",
              "      <td>0.000000</td>\n",
              "      <td>0.0</td>\n",
              "      <td>0.0</td>\n",
              "      <td>2.439959</td>\n",
              "      <td>0.000158</td>\n",
              "    </tr>\n",
              "    <tr>\n",
              "      <th>4</th>\n",
              "      <td>4_2014-01-01</td>\n",
              "      <td>4</td>\n",
              "      <td>2014-01-01</td>\n",
              "      <td>25.886</td>\n",
              "      <td>5.067</td>\n",
              "      <td>0</td>\n",
              "      <td>144.278146</td>\n",
              "      <td>1197.831547</td>\n",
              "      <td>-959.248284</td>\n",
              "      <td>1342.118844</td>\n",
              "      <td>0.998555</td>\n",
              "      <td>0.0</td>\n",
              "      <td>358.043829</td>\n",
              "      <td>2341.881156</td>\n",
              "      <td>0.0</td>\n",
              "      <td>186.275015</td>\n",
              "      <td>327.839976</td>\n",
              "      <td>2549.462252</td>\n",
              "      <td>102.743046</td>\n",
              "      <td>159.865021</td>\n",
              "      <td>660.372381</td>\n",
              "      <td>0.0</td>\n",
              "      <td>0.0</td>\n",
              "      <td>0.333855</td>\n",
              "      <td>0.0</td>\n",
              "      <td>0.666145</td>\n",
              "      <td>0.0</td>\n",
              "      <td>0.000000</td>\n",
              "      <td>0.0</td>\n",
              "      <td>0.0</td>\n",
              "      <td>2.546723</td>\n",
              "      <td>0.000153</td>\n",
              "    </tr>\n",
              "  </tbody>\n",
              "</table>\n",
              "</div>"
            ],
            "text/plain": [
              "             ID  area  ... population_density  precipitation\n",
              "0  0_2014-01-01     0  ...           2.773423       0.000457\n",
              "1  1_2014-01-01     1  ...           4.697883       0.000129\n",
              "2  2_2014-01-01     2  ...           2.488614       0.000398\n",
              "3  3_2014-01-01     3  ...           2.439959       0.000158\n",
              "4  4_2014-01-01     4  ...           2.546723       0.000153\n",
              "\n",
              "[5 rows x 32 columns]"
            ]
          },
          "metadata": {
            "tags": []
          },
          "execution_count": 51
        }
      ]
    },
    {
      "cell_type": "code",
      "metadata": {
        "id": "HItSe6MCkyPB",
        "outputId": "28f1e558-9b92-4549-ede7-1a89baf947c1",
        "colab": {
          "base_uri": "https://localhost:8080/",
          "height": 195
        }
      },
      "source": [
        "# So we need to predict the burn area for each row in test. \n",
        " \n",
        "# Add the same features to test as we did to train:\n",
        "test['month'] = test.date.dt.month\n",
        "test['year'] = test.date.dt.year\n",
        " \n",
        "# Get predictions\n",
        "preds = model.predict(test[in_cols].fillna(0)) # fillna(0) here could be improved by examining the missing data and filling more appropriately.\n",
        " \n",
        "# Add to submission dataframe\n",
        "ss['Prediction'] = preds\n",
        " \n",
        "# View\n",
        "ss.head()"
      ],
      "execution_count": null,
      "outputs": [
        {
          "output_type": "execute_result",
          "data": {
            "text/html": [
              "<div>\n",
              "<style scoped>\n",
              "    .dataframe tbody tr th:only-of-type {\n",
              "        vertical-align: middle;\n",
              "    }\n",
              "\n",
              "    .dataframe tbody tr th {\n",
              "        vertical-align: top;\n",
              "    }\n",
              "\n",
              "    .dataframe thead th {\n",
              "        text-align: right;\n",
              "    }\n",
              "</style>\n",
              "<table border=\"1\" class=\"dataframe\">\n",
              "  <thead>\n",
              "    <tr style=\"text-align: right;\">\n",
              "      <th></th>\n",
              "      <th>ID</th>\n",
              "      <th>Prediction</th>\n",
              "    </tr>\n",
              "  </thead>\n",
              "  <tbody>\n",
              "    <tr>\n",
              "      <th>0</th>\n",
              "      <td>0_2014-01-01</td>\n",
              "      <td>0.188498</td>\n",
              "    </tr>\n",
              "    <tr>\n",
              "      <th>1</th>\n",
              "      <td>1_2014-01-01</td>\n",
              "      <td>0.158908</td>\n",
              "    </tr>\n",
              "    <tr>\n",
              "      <th>2</th>\n",
              "      <td>2_2014-01-01</td>\n",
              "      <td>0.276794</td>\n",
              "    </tr>\n",
              "    <tr>\n",
              "      <th>3</th>\n",
              "      <td>3_2014-01-01</td>\n",
              "      <td>0.222962</td>\n",
              "    </tr>\n",
              "    <tr>\n",
              "      <th>4</th>\n",
              "      <td>4_2014-01-01</td>\n",
              "      <td>0.285927</td>\n",
              "    </tr>\n",
              "  </tbody>\n",
              "</table>\n",
              "</div>"
            ],
            "text/plain": [
              "             ID  Prediction\n",
              "0  0_2014-01-01    0.188498\n",
              "1  1_2014-01-01    0.158908\n",
              "2  2_2014-01-01    0.276794\n",
              "3  3_2014-01-01    0.222962\n",
              "4  4_2014-01-01    0.285927"
            ]
          },
          "metadata": {
            "tags": []
          },
          "execution_count": 54
        }
      ]
    },
    {
      "cell_type": "code",
      "metadata": {
        "id": "13Ns-f5blIEs"
      },
      "source": [
        "# Save ready for submission:\n",
        "ss.to_csv('starter_submission.csv', index=False)"
      ],
      "execution_count": null,
      "outputs": []
    },
    {
      "cell_type": "markdown",
      "metadata": {
        "id": "OeyjG8-4mK7Y"
      },
      "source": [
        "# Tips for improving your score\n",
        "\n",
        "- Once you've chosen a model, you should re-train it on all the data (including that which you previously held back for validation) to give it the best chance of succeeding\n",
        "- There is a timeseries component to this challenge. Think about how to use this to improve your accuracy.\n",
        "- Spend some time on feature engineering. Since no external data is allowed for this challenge, the winning solution will be the one that gets the most out of the data provided."
      ]
    },
    {
      "cell_type": "code",
      "metadata": {
        "id": "yUuqtHNKnO3r"
      },
      "source": [
        ""
      ],
      "execution_count": null,
      "outputs": []
    }
  ]
}